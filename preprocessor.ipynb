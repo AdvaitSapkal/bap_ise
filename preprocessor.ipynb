{
 "cells": [
  {
   "cell_type": "code",
   "execution_count": 1,
   "id": "cf6d0222",
   "metadata": {},
   "outputs": [],
   "source": [
    "import pandas as pd"
   ]
  },
  {
   "cell_type": "code",
   "execution_count": 3,
   "id": "21cc2140",
   "metadata": {},
   "outputs": [],
   "source": [
    "df=pd.read_csv('final2.csv')"
   ]
  },
  {
   "cell_type": "code",
   "execution_count": 8,
   "id": "2a40a975",
   "metadata": {},
   "outputs": [],
   "source": [
    "df=df[:303]"
   ]
  },
  {
   "cell_type": "code",
   "execution_count": 9,
   "id": "e23f43a2",
   "metadata": {},
   "outputs": [
    {
     "data": {
      "text/html": [
       "<div>\n",
       "<style scoped>\n",
       "    .dataframe tbody tr th:only-of-type {\n",
       "        vertical-align: middle;\n",
       "    }\n",
       "\n",
       "    .dataframe tbody tr th {\n",
       "        vertical-align: top;\n",
       "    }\n",
       "\n",
       "    .dataframe thead th {\n",
       "        text-align: right;\n",
       "    }\n",
       "</style>\n",
       "<table border=\"1\" class=\"dataframe\">\n",
       "  <thead>\n",
       "    <tr style=\"text-align: right;\">\n",
       "      <th></th>\n",
       "      <th>serial_num</th>\n",
       "      <th>subject_code</th>\n",
       "      <th>course_type</th>\n",
       "      <th>lab_or_lecture</th>\n",
       "      <th>department</th>\n",
       "      <th>branch</th>\n",
       "      <th>batch</th>\n",
       "      <th>faculty_code</th>\n",
       "      <th>floor</th>\n",
       "      <th>room_num</th>\n",
       "      <th>day</th>\n",
       "      <th>start_time</th>\n",
       "      <th>end_time</th>\n",
       "      <th>year</th>\n",
       "      <th>duration</th>\n",
       "    </tr>\n",
       "  </thead>\n",
       "  <tbody>\n",
       "    <tr>\n",
       "      <th>0</th>\n",
       "      <td>1.0</td>\n",
       "      <td>NLP</td>\n",
       "      <td>PE</td>\n",
       "      <td>lecture</td>\n",
       "      <td>all</td>\n",
       "      <td>all</td>\n",
       "      <td>NaN</td>\n",
       "      <td>RK</td>\n",
       "      <td>6.0</td>\n",
       "      <td>601</td>\n",
       "      <td>monday</td>\n",
       "      <td>9:00</td>\n",
       "      <td>11:00</td>\n",
       "      <td>TE</td>\n",
       "      <td>NaN</td>\n",
       "    </tr>\n",
       "    <tr>\n",
       "      <th>1</th>\n",
       "      <td>2.0</td>\n",
       "      <td>BAP</td>\n",
       "      <td>PE</td>\n",
       "      <td>lab</td>\n",
       "      <td>all</td>\n",
       "      <td>all</td>\n",
       "      <td>F</td>\n",
       "      <td>SC</td>\n",
       "      <td>4.0</td>\n",
       "      <td>410B</td>\n",
       "      <td>monday</td>\n",
       "      <td>9:00</td>\n",
       "      <td>11:00</td>\n",
       "      <td>TE</td>\n",
       "      <td>NaN</td>\n",
       "    </tr>\n",
       "    <tr>\n",
       "      <th>2</th>\n",
       "      <td>3.0</td>\n",
       "      <td>EH</td>\n",
       "      <td>PE</td>\n",
       "      <td>lab</td>\n",
       "      <td>all</td>\n",
       "      <td>all</td>\n",
       "      <td>B</td>\n",
       "      <td>RP</td>\n",
       "      <td>4.0</td>\n",
       "      <td>406A</td>\n",
       "      <td>monday</td>\n",
       "      <td>9:00</td>\n",
       "      <td>11:00</td>\n",
       "      <td>TE</td>\n",
       "      <td>NaN</td>\n",
       "    </tr>\n",
       "    <tr>\n",
       "      <th>3</th>\n",
       "      <td>4.0</td>\n",
       "      <td>BCT</td>\n",
       "      <td>PE</td>\n",
       "      <td>lab</td>\n",
       "      <td>all</td>\n",
       "      <td>all</td>\n",
       "      <td>C-PE</td>\n",
       "      <td>DDA</td>\n",
       "      <td>4.0</td>\n",
       "      <td>404</td>\n",
       "      <td>monday</td>\n",
       "      <td>9:00</td>\n",
       "      <td>11:00</td>\n",
       "      <td>TE</td>\n",
       "      <td>NaN</td>\n",
       "    </tr>\n",
       "    <tr>\n",
       "      <th>4</th>\n",
       "      <td>5.0</td>\n",
       "      <td>DC</td>\n",
       "      <td>PC</td>\n",
       "      <td>lecture</td>\n",
       "      <td>CSE</td>\n",
       "      <td>DS</td>\n",
       "      <td>all</td>\n",
       "      <td>SBG</td>\n",
       "      <td>4.0</td>\n",
       "      <td>407</td>\n",
       "      <td>monday</td>\n",
       "      <td>11:15</td>\n",
       "      <td>12:15</td>\n",
       "      <td>TE</td>\n",
       "      <td>NaN</td>\n",
       "    </tr>\n",
       "    <tr>\n",
       "      <th>...</th>\n",
       "      <td>...</td>\n",
       "      <td>...</td>\n",
       "      <td>...</td>\n",
       "      <td>...</td>\n",
       "      <td>...</td>\n",
       "      <td>...</td>\n",
       "      <td>...</td>\n",
       "      <td>...</td>\n",
       "      <td>...</td>\n",
       "      <td>...</td>\n",
       "      <td>...</td>\n",
       "      <td>...</td>\n",
       "      <td>...</td>\n",
       "      <td>...</td>\n",
       "      <td>...</td>\n",
       "    </tr>\n",
       "    <tr>\n",
       "      <th>298</th>\n",
       "      <td>299.0</td>\n",
       "      <td>LA</td>\n",
       "      <td>BSC</td>\n",
       "      <td>lab</td>\n",
       "      <td>CSE</td>\n",
       "      <td>AIML</td>\n",
       "      <td>A</td>\n",
       "      <td>RM</td>\n",
       "      <td>4.0</td>\n",
       "      <td>404</td>\n",
       "      <td>friday</td>\n",
       "      <td>9:00</td>\n",
       "      <td>11:00</td>\n",
       "      <td>SE</td>\n",
       "      <td>NaN</td>\n",
       "    </tr>\n",
       "    <tr>\n",
       "      <th>299</th>\n",
       "      <td>300.0</td>\n",
       "      <td>CCN</td>\n",
       "      <td>PC</td>\n",
       "      <td>lab</td>\n",
       "      <td>CSE</td>\n",
       "      <td>AIML</td>\n",
       "      <td>C</td>\n",
       "      <td>AVN</td>\n",
       "      <td>4.0</td>\n",
       "      <td>410B</td>\n",
       "      <td>friday</td>\n",
       "      <td>9:00</td>\n",
       "      <td>11:00</td>\n",
       "      <td>SE</td>\n",
       "      <td>NaN</td>\n",
       "    </tr>\n",
       "    <tr>\n",
       "      <th>300</th>\n",
       "      <td>301.0</td>\n",
       "      <td>OS</td>\n",
       "      <td>PC</td>\n",
       "      <td>lecture</td>\n",
       "      <td>CSE</td>\n",
       "      <td>AIML</td>\n",
       "      <td>NaN</td>\n",
       "      <td>AT</td>\n",
       "      <td>4.0</td>\n",
       "      <td>405</td>\n",
       "      <td>friday</td>\n",
       "      <td>11:15</td>\n",
       "      <td>12:15</td>\n",
       "      <td>SE</td>\n",
       "      <td>NaN</td>\n",
       "    </tr>\n",
       "    <tr>\n",
       "      <th>301</th>\n",
       "      <td>302.0</td>\n",
       "      <td>OS</td>\n",
       "      <td>PC</td>\n",
       "      <td>lecture</td>\n",
       "      <td>CSE</td>\n",
       "      <td>AIML</td>\n",
       "      <td>NaN</td>\n",
       "      <td>AT</td>\n",
       "      <td>4.0</td>\n",
       "      <td>405</td>\n",
       "      <td>friday</td>\n",
       "      <td>12:15</td>\n",
       "      <td>13:15</td>\n",
       "      <td>SE</td>\n",
       "      <td>NaN</td>\n",
       "    </tr>\n",
       "    <tr>\n",
       "      <th>302</th>\n",
       "      <td>303.0</td>\n",
       "      <td>FOM-II</td>\n",
       "      <td>BSC(LE)</td>\n",
       "      <td>lecture</td>\n",
       "      <td>all</td>\n",
       "      <td>all</td>\n",
       "      <td>NaN</td>\n",
       "      <td>RRS</td>\n",
       "      <td>3.0</td>\n",
       "      <td>309</td>\n",
       "      <td>friday</td>\n",
       "      <td>14:00</td>\n",
       "      <td>15:00</td>\n",
       "      <td>SE</td>\n",
       "      <td>NaN</td>\n",
       "    </tr>\n",
       "  </tbody>\n",
       "</table>\n",
       "<p>303 rows × 15 columns</p>\n",
       "</div>"
      ],
      "text/plain": [
       "     serial_num subject_code course_type lab_or_lecture department branch  \\\n",
       "0           1.0          NLP          PE        lecture        all    all   \n",
       "1           2.0          BAP          PE            lab        all    all   \n",
       "2           3.0           EH          PE            lab        all    all   \n",
       "3           4.0          BCT          PE            lab        all    all   \n",
       "4           5.0           DC          PC        lecture        CSE     DS   \n",
       "..          ...          ...         ...            ...        ...    ...   \n",
       "298       299.0           LA         BSC            lab        CSE   AIML   \n",
       "299       300.0          CCN          PC            lab        CSE   AIML   \n",
       "300       301.0           OS          PC        lecture        CSE   AIML   \n",
       "301       302.0           OS          PC        lecture        CSE   AIML   \n",
       "302       303.0       FOM-II     BSC(LE)        lecture        all    all   \n",
       "\n",
       "    batch faculty_code  floor room_num     day start_time end_time year  \\\n",
       "0     NaN           RK    6.0      601  monday       9:00    11:00   TE   \n",
       "1       F           SC    4.0     410B  monday       9:00    11:00   TE   \n",
       "2       B           RP    4.0     406A  monday       9:00    11:00   TE   \n",
       "3    C-PE          DDA    4.0      404  monday       9:00    11:00   TE   \n",
       "4     all          SBG    4.0      407  monday      11:15    12:15   TE   \n",
       "..    ...          ...    ...      ...     ...        ...      ...  ...   \n",
       "298     A           RM    4.0      404  friday       9:00    11:00   SE   \n",
       "299     C          AVN    4.0     410B  friday       9:00    11:00   SE   \n",
       "300   NaN           AT    4.0      405  friday      11:15    12:15   SE   \n",
       "301   NaN           AT    4.0      405  friday      12:15    13:15   SE   \n",
       "302   NaN          RRS    3.0      309  friday      14:00    15:00   SE   \n",
       "\n",
       "     duration  \n",
       "0         NaN  \n",
       "1         NaN  \n",
       "2         NaN  \n",
       "3         NaN  \n",
       "4         NaN  \n",
       "..        ...  \n",
       "298       NaN  \n",
       "299       NaN  \n",
       "300       NaN  \n",
       "301       NaN  \n",
       "302       NaN  \n",
       "\n",
       "[303 rows x 15 columns]"
      ]
     },
     "execution_count": 9,
     "metadata": {},
     "output_type": "execute_result"
    }
   ],
   "source": [
    "df"
   ]
  },
  {
   "cell_type": "code",
   "execution_count": 14,
   "id": "22e44b33",
   "metadata": {},
   "outputs": [
    {
     "data": {
      "text/plain": [
       "serial_num          0\n",
       "subject_code        0\n",
       "course_type         0\n",
       "lab_or_lecture      0\n",
       "department          0\n",
       "branch              0\n",
       "batch               0\n",
       "faculty_code        0\n",
       "floor              79\n",
       "room_num           13\n",
       "day                 0\n",
       "start_time          0\n",
       "end_time            0\n",
       "year                0\n",
       "duration          303\n",
       "dtype: int64"
      ]
     },
     "execution_count": 14,
     "metadata": {},
     "output_type": "execute_result"
    }
   ],
   "source": [
    "df.isnull().sum()"
   ]
  },
  {
   "cell_type": "code",
   "execution_count": 12,
   "id": "ea498bbe",
   "metadata": {},
   "outputs": [
    {
     "name": "stderr",
     "output_type": "stream",
     "text": [
      "C:\\Users\\Advait_Sapkal\\AppData\\Local\\Temp\\ipykernel_1509996\\4025855478.py:1: SettingWithCopyWarning: \n",
      "A value is trying to be set on a copy of a slice from a DataFrame\n",
      "\n",
      "See the caveats in the documentation: https://pandas.pydata.org/pandas-docs/stable/user_guide/indexing.html#returning-a-view-versus-a-copy\n",
      "  df['batch'].fillna('N',inplace=True)\n"
     ]
    }
   ],
   "source": [
    "df['batch'].fillna('N',inplace=True)"
   ]
  },
  {
   "cell_type": "code",
   "execution_count": 26,
   "id": "657c5d40",
   "metadata": {},
   "outputs": [
    {
     "name": "stderr",
     "output_type": "stream",
     "text": [
      "C:\\Users\\Advait_Sapkal\\AppData\\Local\\Temp\\ipykernel_1509996\\3950638700.py:1: SettingWithCopyWarning: \n",
      "A value is trying to be set on a copy of a slice from a DataFrame\n",
      "\n",
      "See the caveats in the documentation: https://pandas.pydata.org/pandas-docs/stable/user_guide/indexing.html#returning-a-view-versus-a-copy\n",
      "  df['room_num'].fillna('801',inplace=True)\n"
     ]
    }
   ],
   "source": [
    "df['room_num'].fillna('801',inplace=True)"
   ]
  },
  {
   "cell_type": "code",
   "execution_count": 13,
   "id": "7a70d1e0",
   "metadata": {},
   "outputs": [
    {
     "data": {
      "text/html": [
       "<div>\n",
       "<style scoped>\n",
       "    .dataframe tbody tr th:only-of-type {\n",
       "        vertical-align: middle;\n",
       "    }\n",
       "\n",
       "    .dataframe tbody tr th {\n",
       "        vertical-align: top;\n",
       "    }\n",
       "\n",
       "    .dataframe thead th {\n",
       "        text-align: right;\n",
       "    }\n",
       "</style>\n",
       "<table border=\"1\" class=\"dataframe\">\n",
       "  <thead>\n",
       "    <tr style=\"text-align: right;\">\n",
       "      <th></th>\n",
       "      <th>serial_num</th>\n",
       "      <th>subject_code</th>\n",
       "      <th>course_type</th>\n",
       "      <th>lab_or_lecture</th>\n",
       "      <th>department</th>\n",
       "      <th>branch</th>\n",
       "      <th>batch</th>\n",
       "      <th>faculty_code</th>\n",
       "      <th>floor</th>\n",
       "      <th>room_num</th>\n",
       "      <th>day</th>\n",
       "      <th>start_time</th>\n",
       "      <th>end_time</th>\n",
       "      <th>year</th>\n",
       "      <th>duration</th>\n",
       "    </tr>\n",
       "  </thead>\n",
       "  <tbody>\n",
       "    <tr>\n",
       "      <th>0</th>\n",
       "      <td>1.0</td>\n",
       "      <td>NLP</td>\n",
       "      <td>PE</td>\n",
       "      <td>lecture</td>\n",
       "      <td>all</td>\n",
       "      <td>all</td>\n",
       "      <td>N</td>\n",
       "      <td>RK</td>\n",
       "      <td>6.0</td>\n",
       "      <td>601</td>\n",
       "      <td>monday</td>\n",
       "      <td>9:00</td>\n",
       "      <td>11:00</td>\n",
       "      <td>TE</td>\n",
       "      <td>NaN</td>\n",
       "    </tr>\n",
       "    <tr>\n",
       "      <th>1</th>\n",
       "      <td>2.0</td>\n",
       "      <td>BAP</td>\n",
       "      <td>PE</td>\n",
       "      <td>lab</td>\n",
       "      <td>all</td>\n",
       "      <td>all</td>\n",
       "      <td>F</td>\n",
       "      <td>SC</td>\n",
       "      <td>4.0</td>\n",
       "      <td>410B</td>\n",
       "      <td>monday</td>\n",
       "      <td>9:00</td>\n",
       "      <td>11:00</td>\n",
       "      <td>TE</td>\n",
       "      <td>NaN</td>\n",
       "    </tr>\n",
       "    <tr>\n",
       "      <th>2</th>\n",
       "      <td>3.0</td>\n",
       "      <td>EH</td>\n",
       "      <td>PE</td>\n",
       "      <td>lab</td>\n",
       "      <td>all</td>\n",
       "      <td>all</td>\n",
       "      <td>B</td>\n",
       "      <td>RP</td>\n",
       "      <td>4.0</td>\n",
       "      <td>406A</td>\n",
       "      <td>monday</td>\n",
       "      <td>9:00</td>\n",
       "      <td>11:00</td>\n",
       "      <td>TE</td>\n",
       "      <td>NaN</td>\n",
       "    </tr>\n",
       "    <tr>\n",
       "      <th>3</th>\n",
       "      <td>4.0</td>\n",
       "      <td>BCT</td>\n",
       "      <td>PE</td>\n",
       "      <td>lab</td>\n",
       "      <td>all</td>\n",
       "      <td>all</td>\n",
       "      <td>C-PE</td>\n",
       "      <td>DDA</td>\n",
       "      <td>4.0</td>\n",
       "      <td>404</td>\n",
       "      <td>monday</td>\n",
       "      <td>9:00</td>\n",
       "      <td>11:00</td>\n",
       "      <td>TE</td>\n",
       "      <td>NaN</td>\n",
       "    </tr>\n",
       "    <tr>\n",
       "      <th>4</th>\n",
       "      <td>5.0</td>\n",
       "      <td>DC</td>\n",
       "      <td>PC</td>\n",
       "      <td>lecture</td>\n",
       "      <td>CSE</td>\n",
       "      <td>DS</td>\n",
       "      <td>all</td>\n",
       "      <td>SBG</td>\n",
       "      <td>4.0</td>\n",
       "      <td>407</td>\n",
       "      <td>monday</td>\n",
       "      <td>11:15</td>\n",
       "      <td>12:15</td>\n",
       "      <td>TE</td>\n",
       "      <td>NaN</td>\n",
       "    </tr>\n",
       "    <tr>\n",
       "      <th>...</th>\n",
       "      <td>...</td>\n",
       "      <td>...</td>\n",
       "      <td>...</td>\n",
       "      <td>...</td>\n",
       "      <td>...</td>\n",
       "      <td>...</td>\n",
       "      <td>...</td>\n",
       "      <td>...</td>\n",
       "      <td>...</td>\n",
       "      <td>...</td>\n",
       "      <td>...</td>\n",
       "      <td>...</td>\n",
       "      <td>...</td>\n",
       "      <td>...</td>\n",
       "      <td>...</td>\n",
       "    </tr>\n",
       "    <tr>\n",
       "      <th>298</th>\n",
       "      <td>299.0</td>\n",
       "      <td>LA</td>\n",
       "      <td>BSC</td>\n",
       "      <td>lab</td>\n",
       "      <td>CSE</td>\n",
       "      <td>AIML</td>\n",
       "      <td>A</td>\n",
       "      <td>RM</td>\n",
       "      <td>4.0</td>\n",
       "      <td>404</td>\n",
       "      <td>friday</td>\n",
       "      <td>9:00</td>\n",
       "      <td>11:00</td>\n",
       "      <td>SE</td>\n",
       "      <td>NaN</td>\n",
       "    </tr>\n",
       "    <tr>\n",
       "      <th>299</th>\n",
       "      <td>300.0</td>\n",
       "      <td>CCN</td>\n",
       "      <td>PC</td>\n",
       "      <td>lab</td>\n",
       "      <td>CSE</td>\n",
       "      <td>AIML</td>\n",
       "      <td>C</td>\n",
       "      <td>AVN</td>\n",
       "      <td>4.0</td>\n",
       "      <td>410B</td>\n",
       "      <td>friday</td>\n",
       "      <td>9:00</td>\n",
       "      <td>11:00</td>\n",
       "      <td>SE</td>\n",
       "      <td>NaN</td>\n",
       "    </tr>\n",
       "    <tr>\n",
       "      <th>300</th>\n",
       "      <td>301.0</td>\n",
       "      <td>OS</td>\n",
       "      <td>PC</td>\n",
       "      <td>lecture</td>\n",
       "      <td>CSE</td>\n",
       "      <td>AIML</td>\n",
       "      <td>N</td>\n",
       "      <td>AT</td>\n",
       "      <td>4.0</td>\n",
       "      <td>405</td>\n",
       "      <td>friday</td>\n",
       "      <td>11:15</td>\n",
       "      <td>12:15</td>\n",
       "      <td>SE</td>\n",
       "      <td>NaN</td>\n",
       "    </tr>\n",
       "    <tr>\n",
       "      <th>301</th>\n",
       "      <td>302.0</td>\n",
       "      <td>OS</td>\n",
       "      <td>PC</td>\n",
       "      <td>lecture</td>\n",
       "      <td>CSE</td>\n",
       "      <td>AIML</td>\n",
       "      <td>N</td>\n",
       "      <td>AT</td>\n",
       "      <td>4.0</td>\n",
       "      <td>405</td>\n",
       "      <td>friday</td>\n",
       "      <td>12:15</td>\n",
       "      <td>13:15</td>\n",
       "      <td>SE</td>\n",
       "      <td>NaN</td>\n",
       "    </tr>\n",
       "    <tr>\n",
       "      <th>302</th>\n",
       "      <td>303.0</td>\n",
       "      <td>FOM-II</td>\n",
       "      <td>BSC(LE)</td>\n",
       "      <td>lecture</td>\n",
       "      <td>all</td>\n",
       "      <td>all</td>\n",
       "      <td>N</td>\n",
       "      <td>RRS</td>\n",
       "      <td>3.0</td>\n",
       "      <td>309</td>\n",
       "      <td>friday</td>\n",
       "      <td>14:00</td>\n",
       "      <td>15:00</td>\n",
       "      <td>SE</td>\n",
       "      <td>NaN</td>\n",
       "    </tr>\n",
       "  </tbody>\n",
       "</table>\n",
       "<p>303 rows × 15 columns</p>\n",
       "</div>"
      ],
      "text/plain": [
       "     serial_num subject_code course_type lab_or_lecture department branch  \\\n",
       "0           1.0          NLP          PE        lecture        all    all   \n",
       "1           2.0          BAP          PE            lab        all    all   \n",
       "2           3.0           EH          PE            lab        all    all   \n",
       "3           4.0          BCT          PE            lab        all    all   \n",
       "4           5.0           DC          PC        lecture        CSE     DS   \n",
       "..          ...          ...         ...            ...        ...    ...   \n",
       "298       299.0           LA         BSC            lab        CSE   AIML   \n",
       "299       300.0          CCN          PC            lab        CSE   AIML   \n",
       "300       301.0           OS          PC        lecture        CSE   AIML   \n",
       "301       302.0           OS          PC        lecture        CSE   AIML   \n",
       "302       303.0       FOM-II     BSC(LE)        lecture        all    all   \n",
       "\n",
       "    batch faculty_code  floor room_num     day start_time end_time year  \\\n",
       "0       N           RK    6.0      601  monday       9:00    11:00   TE   \n",
       "1       F           SC    4.0     410B  monday       9:00    11:00   TE   \n",
       "2       B           RP    4.0     406A  monday       9:00    11:00   TE   \n",
       "3    C-PE          DDA    4.0      404  monday       9:00    11:00   TE   \n",
       "4     all          SBG    4.0      407  monday      11:15    12:15   TE   \n",
       "..    ...          ...    ...      ...     ...        ...      ...  ...   \n",
       "298     A           RM    4.0      404  friday       9:00    11:00   SE   \n",
       "299     C          AVN    4.0     410B  friday       9:00    11:00   SE   \n",
       "300     N           AT    4.0      405  friday      11:15    12:15   SE   \n",
       "301     N           AT    4.0      405  friday      12:15    13:15   SE   \n",
       "302     N          RRS    3.0      309  friday      14:00    15:00   SE   \n",
       "\n",
       "     duration  \n",
       "0         NaN  \n",
       "1         NaN  \n",
       "2         NaN  \n",
       "3         NaN  \n",
       "4         NaN  \n",
       "..        ...  \n",
       "298       NaN  \n",
       "299       NaN  \n",
       "300       NaN  \n",
       "301       NaN  \n",
       "302       NaN  \n",
       "\n",
       "[303 rows x 15 columns]"
      ]
     },
     "execution_count": 13,
     "metadata": {},
     "output_type": "execute_result"
    }
   ],
   "source": [
    "df"
   ]
  },
  {
   "cell_type": "code",
   "execution_count": 24,
   "id": "c1071b04",
   "metadata": {},
   "outputs": [
    {
     "data": {
      "text/plain": [
       "'601'"
      ]
     },
     "execution_count": 24,
     "metadata": {},
     "output_type": "execute_result"
    }
   ],
   "source": [
    "df['room_num'][0]"
   ]
  },
  {
   "cell_type": "code",
   "execution_count": 25,
   "id": "23c59d2b",
   "metadata": {},
   "outputs": [
    {
     "data": {
      "text/plain": [
       "'6'"
      ]
     },
     "execution_count": 25,
     "metadata": {},
     "output_type": "execute_result"
    }
   ],
   "source": [
    "df['floor'][0]"
   ]
  },
  {
   "cell_type": "code",
   "execution_count": 27,
   "id": "5f62688c",
   "metadata": {},
   "outputs": [
    {
     "name": "stderr",
     "output_type": "stream",
     "text": [
      "C:\\Users\\Advait_Sapkal\\AppData\\Local\\Temp\\ipykernel_1509996\\1577512448.py:2: SettingWithCopyWarning: \n",
      "A value is trying to be set on a copy of a slice from a DataFrame\n",
      "\n",
      "See the caveats in the documentation: https://pandas.pydata.org/pandas-docs/stable/user_guide/indexing.html#returning-a-view-versus-a-copy\n",
      "  df['floor'][i] = df['room_num'][i][0]\n"
     ]
    }
   ],
   "source": [
    "for i in range(len(df)):\n",
    "    df['floor'][i] = df['room_num'][i][0]"
   ]
  },
  {
   "cell_type": "code",
   "execution_count": null,
   "id": "2a0cdde5",
   "metadata": {},
   "outputs": [],
   "source": []
  },
  {
   "cell_type": "code",
   "execution_count": 28,
   "id": "4482bb92",
   "metadata": {},
   "outputs": [
    {
     "data": {
      "text/plain": [
       "0      6\n",
       "1      4\n",
       "2      4\n",
       "3      4\n",
       "4      4\n",
       "      ..\n",
       "298    4\n",
       "299    4\n",
       "300    4\n",
       "301    4\n",
       "302    3\n",
       "Name: floor, Length: 303, dtype: object"
      ]
     },
     "execution_count": 28,
     "metadata": {},
     "output_type": "execute_result"
    }
   ],
   "source": [
    "df['floor']"
   ]
  },
  {
   "cell_type": "code",
   "execution_count": 29,
   "id": "93681a60",
   "metadata": {},
   "outputs": [
    {
     "data": {
      "text/html": [
       "<div>\n",
       "<style scoped>\n",
       "    .dataframe tbody tr th:only-of-type {\n",
       "        vertical-align: middle;\n",
       "    }\n",
       "\n",
       "    .dataframe tbody tr th {\n",
       "        vertical-align: top;\n",
       "    }\n",
       "\n",
       "    .dataframe thead th {\n",
       "        text-align: right;\n",
       "    }\n",
       "</style>\n",
       "<table border=\"1\" class=\"dataframe\">\n",
       "  <thead>\n",
       "    <tr style=\"text-align: right;\">\n",
       "      <th></th>\n",
       "      <th>serial_num</th>\n",
       "      <th>subject_code</th>\n",
       "      <th>course_type</th>\n",
       "      <th>lab_or_lecture</th>\n",
       "      <th>department</th>\n",
       "      <th>branch</th>\n",
       "      <th>batch</th>\n",
       "      <th>faculty_code</th>\n",
       "      <th>floor</th>\n",
       "      <th>room_num</th>\n",
       "      <th>day</th>\n",
       "      <th>start_time</th>\n",
       "      <th>end_time</th>\n",
       "      <th>year</th>\n",
       "      <th>duration</th>\n",
       "    </tr>\n",
       "  </thead>\n",
       "  <tbody>\n",
       "    <tr>\n",
       "      <th>0</th>\n",
       "      <td>1.0</td>\n",
       "      <td>NLP</td>\n",
       "      <td>PE</td>\n",
       "      <td>lecture</td>\n",
       "      <td>all</td>\n",
       "      <td>all</td>\n",
       "      <td>N</td>\n",
       "      <td>RK</td>\n",
       "      <td>6</td>\n",
       "      <td>601</td>\n",
       "      <td>monday</td>\n",
       "      <td>9:00</td>\n",
       "      <td>11:00</td>\n",
       "      <td>TE</td>\n",
       "      <td>NaN</td>\n",
       "    </tr>\n",
       "    <tr>\n",
       "      <th>1</th>\n",
       "      <td>2.0</td>\n",
       "      <td>BAP</td>\n",
       "      <td>PE</td>\n",
       "      <td>lab</td>\n",
       "      <td>all</td>\n",
       "      <td>all</td>\n",
       "      <td>F</td>\n",
       "      <td>SC</td>\n",
       "      <td>4</td>\n",
       "      <td>410B</td>\n",
       "      <td>monday</td>\n",
       "      <td>9:00</td>\n",
       "      <td>11:00</td>\n",
       "      <td>TE</td>\n",
       "      <td>NaN</td>\n",
       "    </tr>\n",
       "    <tr>\n",
       "      <th>2</th>\n",
       "      <td>3.0</td>\n",
       "      <td>EH</td>\n",
       "      <td>PE</td>\n",
       "      <td>lab</td>\n",
       "      <td>all</td>\n",
       "      <td>all</td>\n",
       "      <td>B</td>\n",
       "      <td>RP</td>\n",
       "      <td>4</td>\n",
       "      <td>406A</td>\n",
       "      <td>monday</td>\n",
       "      <td>9:00</td>\n",
       "      <td>11:00</td>\n",
       "      <td>TE</td>\n",
       "      <td>NaN</td>\n",
       "    </tr>\n",
       "    <tr>\n",
       "      <th>3</th>\n",
       "      <td>4.0</td>\n",
       "      <td>BCT</td>\n",
       "      <td>PE</td>\n",
       "      <td>lab</td>\n",
       "      <td>all</td>\n",
       "      <td>all</td>\n",
       "      <td>C-PE</td>\n",
       "      <td>DDA</td>\n",
       "      <td>4</td>\n",
       "      <td>404</td>\n",
       "      <td>monday</td>\n",
       "      <td>9:00</td>\n",
       "      <td>11:00</td>\n",
       "      <td>TE</td>\n",
       "      <td>NaN</td>\n",
       "    </tr>\n",
       "    <tr>\n",
       "      <th>4</th>\n",
       "      <td>5.0</td>\n",
       "      <td>DC</td>\n",
       "      <td>PC</td>\n",
       "      <td>lecture</td>\n",
       "      <td>CSE</td>\n",
       "      <td>DS</td>\n",
       "      <td>all</td>\n",
       "      <td>SBG</td>\n",
       "      <td>4</td>\n",
       "      <td>407</td>\n",
       "      <td>monday</td>\n",
       "      <td>11:15</td>\n",
       "      <td>12:15</td>\n",
       "      <td>TE</td>\n",
       "      <td>NaN</td>\n",
       "    </tr>\n",
       "    <tr>\n",
       "      <th>...</th>\n",
       "      <td>...</td>\n",
       "      <td>...</td>\n",
       "      <td>...</td>\n",
       "      <td>...</td>\n",
       "      <td>...</td>\n",
       "      <td>...</td>\n",
       "      <td>...</td>\n",
       "      <td>...</td>\n",
       "      <td>...</td>\n",
       "      <td>...</td>\n",
       "      <td>...</td>\n",
       "      <td>...</td>\n",
       "      <td>...</td>\n",
       "      <td>...</td>\n",
       "      <td>...</td>\n",
       "    </tr>\n",
       "    <tr>\n",
       "      <th>298</th>\n",
       "      <td>299.0</td>\n",
       "      <td>LA</td>\n",
       "      <td>BSC</td>\n",
       "      <td>lab</td>\n",
       "      <td>CSE</td>\n",
       "      <td>AIML</td>\n",
       "      <td>A</td>\n",
       "      <td>RM</td>\n",
       "      <td>4</td>\n",
       "      <td>404</td>\n",
       "      <td>friday</td>\n",
       "      <td>9:00</td>\n",
       "      <td>11:00</td>\n",
       "      <td>SE</td>\n",
       "      <td>NaN</td>\n",
       "    </tr>\n",
       "    <tr>\n",
       "      <th>299</th>\n",
       "      <td>300.0</td>\n",
       "      <td>CCN</td>\n",
       "      <td>PC</td>\n",
       "      <td>lab</td>\n",
       "      <td>CSE</td>\n",
       "      <td>AIML</td>\n",
       "      <td>C</td>\n",
       "      <td>AVN</td>\n",
       "      <td>4</td>\n",
       "      <td>410B</td>\n",
       "      <td>friday</td>\n",
       "      <td>9:00</td>\n",
       "      <td>11:00</td>\n",
       "      <td>SE</td>\n",
       "      <td>NaN</td>\n",
       "    </tr>\n",
       "    <tr>\n",
       "      <th>300</th>\n",
       "      <td>301.0</td>\n",
       "      <td>OS</td>\n",
       "      <td>PC</td>\n",
       "      <td>lecture</td>\n",
       "      <td>CSE</td>\n",
       "      <td>AIML</td>\n",
       "      <td>N</td>\n",
       "      <td>AT</td>\n",
       "      <td>4</td>\n",
       "      <td>405</td>\n",
       "      <td>friday</td>\n",
       "      <td>11:15</td>\n",
       "      <td>12:15</td>\n",
       "      <td>SE</td>\n",
       "      <td>NaN</td>\n",
       "    </tr>\n",
       "    <tr>\n",
       "      <th>301</th>\n",
       "      <td>302.0</td>\n",
       "      <td>OS</td>\n",
       "      <td>PC</td>\n",
       "      <td>lecture</td>\n",
       "      <td>CSE</td>\n",
       "      <td>AIML</td>\n",
       "      <td>N</td>\n",
       "      <td>AT</td>\n",
       "      <td>4</td>\n",
       "      <td>405</td>\n",
       "      <td>friday</td>\n",
       "      <td>12:15</td>\n",
       "      <td>13:15</td>\n",
       "      <td>SE</td>\n",
       "      <td>NaN</td>\n",
       "    </tr>\n",
       "    <tr>\n",
       "      <th>302</th>\n",
       "      <td>303.0</td>\n",
       "      <td>FOM-II</td>\n",
       "      <td>BSC(LE)</td>\n",
       "      <td>lecture</td>\n",
       "      <td>all</td>\n",
       "      <td>all</td>\n",
       "      <td>N</td>\n",
       "      <td>RRS</td>\n",
       "      <td>3</td>\n",
       "      <td>309</td>\n",
       "      <td>friday</td>\n",
       "      <td>14:00</td>\n",
       "      <td>15:00</td>\n",
       "      <td>SE</td>\n",
       "      <td>NaN</td>\n",
       "    </tr>\n",
       "  </tbody>\n",
       "</table>\n",
       "<p>303 rows × 15 columns</p>\n",
       "</div>"
      ],
      "text/plain": [
       "     serial_num subject_code course_type lab_or_lecture department branch  \\\n",
       "0           1.0          NLP          PE        lecture        all    all   \n",
       "1           2.0          BAP          PE            lab        all    all   \n",
       "2           3.0           EH          PE            lab        all    all   \n",
       "3           4.0          BCT          PE            lab        all    all   \n",
       "4           5.0           DC          PC        lecture        CSE     DS   \n",
       "..          ...          ...         ...            ...        ...    ...   \n",
       "298       299.0           LA         BSC            lab        CSE   AIML   \n",
       "299       300.0          CCN          PC            lab        CSE   AIML   \n",
       "300       301.0           OS          PC        lecture        CSE   AIML   \n",
       "301       302.0           OS          PC        lecture        CSE   AIML   \n",
       "302       303.0       FOM-II     BSC(LE)        lecture        all    all   \n",
       "\n",
       "    batch faculty_code floor room_num     day start_time end_time year  \\\n",
       "0       N           RK     6      601  monday       9:00    11:00   TE   \n",
       "1       F           SC     4     410B  monday       9:00    11:00   TE   \n",
       "2       B           RP     4     406A  monday       9:00    11:00   TE   \n",
       "3    C-PE          DDA     4      404  monday       9:00    11:00   TE   \n",
       "4     all          SBG     4      407  monday      11:15    12:15   TE   \n",
       "..    ...          ...   ...      ...     ...        ...      ...  ...   \n",
       "298     A           RM     4      404  friday       9:00    11:00   SE   \n",
       "299     C          AVN     4     410B  friday       9:00    11:00   SE   \n",
       "300     N           AT     4      405  friday      11:15    12:15   SE   \n",
       "301     N           AT     4      405  friday      12:15    13:15   SE   \n",
       "302     N          RRS     3      309  friday      14:00    15:00   SE   \n",
       "\n",
       "     duration  \n",
       "0         NaN  \n",
       "1         NaN  \n",
       "2         NaN  \n",
       "3         NaN  \n",
       "4         NaN  \n",
       "..        ...  \n",
       "298       NaN  \n",
       "299       NaN  \n",
       "300       NaN  \n",
       "301       NaN  \n",
       "302       NaN  \n",
       "\n",
       "[303 rows x 15 columns]"
      ]
     },
     "execution_count": 29,
     "metadata": {},
     "output_type": "execute_result"
    }
   ],
   "source": [
    "df"
   ]
  },
  {
   "cell_type": "code",
   "execution_count": 32,
   "id": "244d369d",
   "metadata": {},
   "outputs": [
    {
     "name": "stderr",
     "output_type": "stream",
     "text": [
      "C:\\Users\\Advait_Sapkal\\AppData\\Local\\Temp\\ipykernel_1509996\\2478528004.py:1: SettingWithCopyWarning: \n",
      "A value is trying to be set on a copy of a slice from a DataFrame\n",
      "\n",
      "See the caveats in the documentation: https://pandas.pydata.org/pandas-docs/stable/user_guide/indexing.html#returning-a-view-versus-a-copy\n",
      "  df.replace({'1:15': '13:15'}, inplace=True)\n"
     ]
    }
   ],
   "source": [
    "df.replace({'1:15': '13:15'}, inplace=True)"
   ]
  },
  {
   "cell_type": "code",
   "execution_count": 33,
   "id": "7b0f5c83",
   "metadata": {},
   "outputs": [
    {
     "name": "stderr",
     "output_type": "stream",
     "text": [
      "C:\\Users\\Advait_Sapkal\\AppData\\Local\\Temp\\ipykernel_1509996\\1748187628.py:1: SettingWithCopyWarning: \n",
      "A value is trying to be set on a copy of a slice from a DataFrame\n",
      "\n",
      "See the caveats in the documentation: https://pandas.pydata.org/pandas-docs/stable/user_guide/indexing.html#returning-a-view-versus-a-copy\n",
      "  df.replace({'2:00': '14:00'}, inplace=True)\n"
     ]
    }
   ],
   "source": [
    "df.replace({'2:00': '14:00'}, inplace=True)"
   ]
  },
  {
   "cell_type": "code",
   "execution_count": 34,
   "id": "e7da372e",
   "metadata": {},
   "outputs": [
    {
     "name": "stderr",
     "output_type": "stream",
     "text": [
      "C:\\Users\\Advait_Sapkal\\AppData\\Local\\Temp\\ipykernel_1509996\\2249102970.py:1: SettingWithCopyWarning: \n",
      "A value is trying to be set on a copy of a slice from a DataFrame\n",
      "\n",
      "See the caveats in the documentation: https://pandas.pydata.org/pandas-docs/stable/user_guide/indexing.html#returning-a-view-versus-a-copy\n",
      "  df.replace({'3:00': '15:00'}, inplace=True)\n"
     ]
    }
   ],
   "source": [
    "df.replace({'3:00': '15:00'}, inplace=True)"
   ]
  },
  {
   "cell_type": "code",
   "execution_count": 35,
   "id": "1e87ead9",
   "metadata": {},
   "outputs": [
    {
     "name": "stderr",
     "output_type": "stream",
     "text": [
      "C:\\Users\\Advait_Sapkal\\AppData\\Local\\Temp\\ipykernel_1509996\\3212556397.py:1: SettingWithCopyWarning: \n",
      "A value is trying to be set on a copy of a slice from a DataFrame\n",
      "\n",
      "See the caveats in the documentation: https://pandas.pydata.org/pandas-docs/stable/user_guide/indexing.html#returning-a-view-versus-a-copy\n",
      "  df.replace({'4:00': '16:00'}, inplace=True)\n"
     ]
    }
   ],
   "source": [
    "df.replace({'4:00': '16:00'}, inplace=True)"
   ]
  },
  {
   "cell_type": "code",
   "execution_count": 36,
   "id": "09bb57d6",
   "metadata": {},
   "outputs": [
    {
     "name": "stderr",
     "output_type": "stream",
     "text": [
      "C:\\Users\\Advait_Sapkal\\AppData\\Local\\Temp\\ipykernel_1509996\\2313127452.py:1: SettingWithCopyWarning: \n",
      "A value is trying to be set on a copy of a slice from a DataFrame\n",
      "\n",
      "See the caveats in the documentation: https://pandas.pydata.org/pandas-docs/stable/user_guide/indexing.html#returning-a-view-versus-a-copy\n",
      "  df.replace({'5:00': '17:00'}, inplace=True)\n"
     ]
    }
   ],
   "source": [
    "df.replace({'5:00': '17:00'}, inplace=True)"
   ]
  },
  {
   "cell_type": "code",
   "execution_count": 37,
   "id": "a60b5b82",
   "metadata": {},
   "outputs": [
    {
     "name": "stderr",
     "output_type": "stream",
     "text": [
      "C:\\Users\\Advait_Sapkal\\AppData\\Local\\Temp\\ipykernel_1509996\\2317852661.py:1: SettingWithCopyWarning: \n",
      "A value is trying to be set on a copy of a slice from a DataFrame\n",
      "\n",
      "See the caveats in the documentation: https://pandas.pydata.org/pandas-docs/stable/user_guide/indexing.html#returning-a-view-versus-a-copy\n",
      "  df.replace({'6:00': '18:00'}, inplace=True)\n"
     ]
    }
   ],
   "source": [
    "df.replace({'6:00': '18:00'}, inplace=True)"
   ]
  },
  {
   "cell_type": "code",
   "execution_count": 38,
   "id": "b28b7130",
   "metadata": {},
   "outputs": [
    {
     "name": "stderr",
     "output_type": "stream",
     "text": [
      "C:\\Users\\Advait_Sapkal\\AppData\\Local\\Temp\\ipykernel_1509996\\2330054255.py:1: SettingWithCopyWarning: \n",
      "A value is trying to be set on a copy of a slice from a DataFrame\n",
      "\n",
      "See the caveats in the documentation: https://pandas.pydata.org/pandas-docs/stable/user_guide/indexing.html#returning-a-view-versus-a-copy\n",
      "  df.replace({'7:00': '19:00'}, inplace=True)\n"
     ]
    }
   ],
   "source": [
    "df.replace({'7:00': '19:00'}, inplace=True)"
   ]
  },
  {
   "cell_type": "code",
   "execution_count": 39,
   "id": "4bd464ab",
   "metadata": {},
   "outputs": [
    {
     "data": {
      "text/html": [
       "<div>\n",
       "<style scoped>\n",
       "    .dataframe tbody tr th:only-of-type {\n",
       "        vertical-align: middle;\n",
       "    }\n",
       "\n",
       "    .dataframe tbody tr th {\n",
       "        vertical-align: top;\n",
       "    }\n",
       "\n",
       "    .dataframe thead th {\n",
       "        text-align: right;\n",
       "    }\n",
       "</style>\n",
       "<table border=\"1\" class=\"dataframe\">\n",
       "  <thead>\n",
       "    <tr style=\"text-align: right;\">\n",
       "      <th></th>\n",
       "      <th>serial_num</th>\n",
       "      <th>subject_code</th>\n",
       "      <th>course_type</th>\n",
       "      <th>lab_or_lecture</th>\n",
       "      <th>department</th>\n",
       "      <th>branch</th>\n",
       "      <th>batch</th>\n",
       "      <th>faculty_code</th>\n",
       "      <th>floor</th>\n",
       "      <th>room_num</th>\n",
       "      <th>day</th>\n",
       "      <th>start_time</th>\n",
       "      <th>end_time</th>\n",
       "      <th>year</th>\n",
       "      <th>duration</th>\n",
       "    </tr>\n",
       "  </thead>\n",
       "  <tbody>\n",
       "    <tr>\n",
       "      <th>0</th>\n",
       "      <td>1.0</td>\n",
       "      <td>NLP</td>\n",
       "      <td>PE</td>\n",
       "      <td>lecture</td>\n",
       "      <td>all</td>\n",
       "      <td>all</td>\n",
       "      <td>N</td>\n",
       "      <td>RK</td>\n",
       "      <td>6</td>\n",
       "      <td>601</td>\n",
       "      <td>monday</td>\n",
       "      <td>9:00</td>\n",
       "      <td>11:00</td>\n",
       "      <td>TE</td>\n",
       "      <td>NaN</td>\n",
       "    </tr>\n",
       "    <tr>\n",
       "      <th>1</th>\n",
       "      <td>2.0</td>\n",
       "      <td>BAP</td>\n",
       "      <td>PE</td>\n",
       "      <td>lab</td>\n",
       "      <td>all</td>\n",
       "      <td>all</td>\n",
       "      <td>F</td>\n",
       "      <td>SC</td>\n",
       "      <td>4</td>\n",
       "      <td>410B</td>\n",
       "      <td>monday</td>\n",
       "      <td>9:00</td>\n",
       "      <td>11:00</td>\n",
       "      <td>TE</td>\n",
       "      <td>NaN</td>\n",
       "    </tr>\n",
       "    <tr>\n",
       "      <th>2</th>\n",
       "      <td>3.0</td>\n",
       "      <td>EH</td>\n",
       "      <td>PE</td>\n",
       "      <td>lab</td>\n",
       "      <td>all</td>\n",
       "      <td>all</td>\n",
       "      <td>B</td>\n",
       "      <td>RP</td>\n",
       "      <td>4</td>\n",
       "      <td>406A</td>\n",
       "      <td>monday</td>\n",
       "      <td>9:00</td>\n",
       "      <td>11:00</td>\n",
       "      <td>TE</td>\n",
       "      <td>NaN</td>\n",
       "    </tr>\n",
       "    <tr>\n",
       "      <th>3</th>\n",
       "      <td>4.0</td>\n",
       "      <td>BCT</td>\n",
       "      <td>PE</td>\n",
       "      <td>lab</td>\n",
       "      <td>all</td>\n",
       "      <td>all</td>\n",
       "      <td>C-PE</td>\n",
       "      <td>DDA</td>\n",
       "      <td>4</td>\n",
       "      <td>404</td>\n",
       "      <td>monday</td>\n",
       "      <td>9:00</td>\n",
       "      <td>11:00</td>\n",
       "      <td>TE</td>\n",
       "      <td>NaN</td>\n",
       "    </tr>\n",
       "    <tr>\n",
       "      <th>4</th>\n",
       "      <td>5.0</td>\n",
       "      <td>DC</td>\n",
       "      <td>PC</td>\n",
       "      <td>lecture</td>\n",
       "      <td>CSE</td>\n",
       "      <td>DS</td>\n",
       "      <td>all</td>\n",
       "      <td>SBG</td>\n",
       "      <td>4</td>\n",
       "      <td>407</td>\n",
       "      <td>monday</td>\n",
       "      <td>11:15</td>\n",
       "      <td>12:15</td>\n",
       "      <td>TE</td>\n",
       "      <td>NaN</td>\n",
       "    </tr>\n",
       "    <tr>\n",
       "      <th>...</th>\n",
       "      <td>...</td>\n",
       "      <td>...</td>\n",
       "      <td>...</td>\n",
       "      <td>...</td>\n",
       "      <td>...</td>\n",
       "      <td>...</td>\n",
       "      <td>...</td>\n",
       "      <td>...</td>\n",
       "      <td>...</td>\n",
       "      <td>...</td>\n",
       "      <td>...</td>\n",
       "      <td>...</td>\n",
       "      <td>...</td>\n",
       "      <td>...</td>\n",
       "      <td>...</td>\n",
       "    </tr>\n",
       "    <tr>\n",
       "      <th>298</th>\n",
       "      <td>299.0</td>\n",
       "      <td>LA</td>\n",
       "      <td>BSC</td>\n",
       "      <td>lab</td>\n",
       "      <td>CSE</td>\n",
       "      <td>AIML</td>\n",
       "      <td>A</td>\n",
       "      <td>RM</td>\n",
       "      <td>4</td>\n",
       "      <td>404</td>\n",
       "      <td>friday</td>\n",
       "      <td>9:00</td>\n",
       "      <td>11:00</td>\n",
       "      <td>SE</td>\n",
       "      <td>NaN</td>\n",
       "    </tr>\n",
       "    <tr>\n",
       "      <th>299</th>\n",
       "      <td>300.0</td>\n",
       "      <td>CCN</td>\n",
       "      <td>PC</td>\n",
       "      <td>lab</td>\n",
       "      <td>CSE</td>\n",
       "      <td>AIML</td>\n",
       "      <td>C</td>\n",
       "      <td>AVN</td>\n",
       "      <td>4</td>\n",
       "      <td>410B</td>\n",
       "      <td>friday</td>\n",
       "      <td>9:00</td>\n",
       "      <td>11:00</td>\n",
       "      <td>SE</td>\n",
       "      <td>NaN</td>\n",
       "    </tr>\n",
       "    <tr>\n",
       "      <th>300</th>\n",
       "      <td>301.0</td>\n",
       "      <td>OS</td>\n",
       "      <td>PC</td>\n",
       "      <td>lecture</td>\n",
       "      <td>CSE</td>\n",
       "      <td>AIML</td>\n",
       "      <td>N</td>\n",
       "      <td>AT</td>\n",
       "      <td>4</td>\n",
       "      <td>405</td>\n",
       "      <td>friday</td>\n",
       "      <td>11:15</td>\n",
       "      <td>12:15</td>\n",
       "      <td>SE</td>\n",
       "      <td>NaN</td>\n",
       "    </tr>\n",
       "    <tr>\n",
       "      <th>301</th>\n",
       "      <td>302.0</td>\n",
       "      <td>OS</td>\n",
       "      <td>PC</td>\n",
       "      <td>lecture</td>\n",
       "      <td>CSE</td>\n",
       "      <td>AIML</td>\n",
       "      <td>N</td>\n",
       "      <td>AT</td>\n",
       "      <td>4</td>\n",
       "      <td>405</td>\n",
       "      <td>friday</td>\n",
       "      <td>12:15</td>\n",
       "      <td>13:15</td>\n",
       "      <td>SE</td>\n",
       "      <td>NaN</td>\n",
       "    </tr>\n",
       "    <tr>\n",
       "      <th>302</th>\n",
       "      <td>303.0</td>\n",
       "      <td>FOM-II</td>\n",
       "      <td>BSC(LE)</td>\n",
       "      <td>lecture</td>\n",
       "      <td>all</td>\n",
       "      <td>all</td>\n",
       "      <td>N</td>\n",
       "      <td>RRS</td>\n",
       "      <td>3</td>\n",
       "      <td>309</td>\n",
       "      <td>friday</td>\n",
       "      <td>14:00</td>\n",
       "      <td>15:00</td>\n",
       "      <td>SE</td>\n",
       "      <td>NaN</td>\n",
       "    </tr>\n",
       "  </tbody>\n",
       "</table>\n",
       "<p>303 rows × 15 columns</p>\n",
       "</div>"
      ],
      "text/plain": [
       "     serial_num subject_code course_type lab_or_lecture department branch  \\\n",
       "0           1.0          NLP          PE        lecture        all    all   \n",
       "1           2.0          BAP          PE            lab        all    all   \n",
       "2           3.0           EH          PE            lab        all    all   \n",
       "3           4.0          BCT          PE            lab        all    all   \n",
       "4           5.0           DC          PC        lecture        CSE     DS   \n",
       "..          ...          ...         ...            ...        ...    ...   \n",
       "298       299.0           LA         BSC            lab        CSE   AIML   \n",
       "299       300.0          CCN          PC            lab        CSE   AIML   \n",
       "300       301.0           OS          PC        lecture        CSE   AIML   \n",
       "301       302.0           OS          PC        lecture        CSE   AIML   \n",
       "302       303.0       FOM-II     BSC(LE)        lecture        all    all   \n",
       "\n",
       "    batch faculty_code floor room_num     day start_time end_time year  \\\n",
       "0       N           RK     6      601  monday       9:00    11:00   TE   \n",
       "1       F           SC     4     410B  monday       9:00    11:00   TE   \n",
       "2       B           RP     4     406A  monday       9:00    11:00   TE   \n",
       "3    C-PE          DDA     4      404  monday       9:00    11:00   TE   \n",
       "4     all          SBG     4      407  monday      11:15    12:15   TE   \n",
       "..    ...          ...   ...      ...     ...        ...      ...  ...   \n",
       "298     A           RM     4      404  friday       9:00    11:00   SE   \n",
       "299     C          AVN     4     410B  friday       9:00    11:00   SE   \n",
       "300     N           AT     4      405  friday      11:15    12:15   SE   \n",
       "301     N           AT     4      405  friday      12:15    13:15   SE   \n",
       "302     N          RRS     3      309  friday      14:00    15:00   SE   \n",
       "\n",
       "     duration  \n",
       "0         NaN  \n",
       "1         NaN  \n",
       "2         NaN  \n",
       "3         NaN  \n",
       "4         NaN  \n",
       "..        ...  \n",
       "298       NaN  \n",
       "299       NaN  \n",
       "300       NaN  \n",
       "301       NaN  \n",
       "302       NaN  \n",
       "\n",
       "[303 rows x 15 columns]"
      ]
     },
     "execution_count": 39,
     "metadata": {},
     "output_type": "execute_result"
    }
   ],
   "source": [
    "df"
   ]
  },
  {
   "cell_type": "code",
   "execution_count": 40,
   "id": "2b357832",
   "metadata": {},
   "outputs": [
    {
     "data": {
      "text/plain": [
       "serial_num          0\n",
       "subject_code        0\n",
       "course_type         0\n",
       "lab_or_lecture      0\n",
       "department          0\n",
       "branch              0\n",
       "batch               0\n",
       "faculty_code        0\n",
       "floor               0\n",
       "room_num            0\n",
       "day                 0\n",
       "start_time          0\n",
       "end_time            0\n",
       "year                0\n",
       "duration          303\n",
       "dtype: int64"
      ]
     },
     "execution_count": 40,
     "metadata": {},
     "output_type": "execute_result"
    }
   ],
   "source": [
    "df.isnull().sum()"
   ]
  },
  {
   "cell_type": "code",
   "execution_count": 48,
   "id": "c80b4b0c",
   "metadata": {},
   "outputs": [
    {
     "name": "stderr",
     "output_type": "stream",
     "text": [
      "C:\\Users\\Advait_Sapkal\\AppData\\Local\\Temp\\ipykernel_1509996\\2981535616.py:1: SettingWithCopyWarning: \n",
      "A value is trying to be set on a copy of a slice from a DataFrame.\n",
      "Try using .loc[row_indexer,col_indexer] = value instead\n",
      "\n",
      "See the caveats in the documentation: https://pandas.pydata.org/pandas-docs/stable/user_guide/indexing.html#returning-a-view-versus-a-copy\n",
      "  df['start_time'] = pd.to_datetime(df['start_time'], format='%H:%M').dt.time\n",
      "C:\\Users\\Advait_Sapkal\\AppData\\Local\\Temp\\ipykernel_1509996\\2981535616.py:2: SettingWithCopyWarning: \n",
      "A value is trying to be set on a copy of a slice from a DataFrame.\n",
      "Try using .loc[row_indexer,col_indexer] = value instead\n",
      "\n",
      "See the caveats in the documentation: https://pandas.pydata.org/pandas-docs/stable/user_guide/indexing.html#returning-a-view-versus-a-copy\n",
      "  df['end_time'] = pd.to_datetime(df['end_time'], format='%H:%M').dt.time\n"
     ]
    }
   ],
   "source": [
    "df['start_time'] = pd.to_datetime(df['start_time'], format='%H:%M').dt.time\n",
    "df['end_time'] = pd.to_datetime(df['end_time'], format='%H:%M').dt.time\n",
    "df['start_time']\n",
    "df['duration']=(df['end_time']-df['start_time']).dt.components.hours"
   ]
  },
  {
   "cell_type": "code",
   "execution_count": 49,
   "id": "e7eb5ce3",
   "metadata": {},
   "outputs": [
    {
     "data": {
      "text/plain": [
       "0      09:00:00\n",
       "1      09:00:00\n",
       "2      09:00:00\n",
       "3      09:00:00\n",
       "4      11:15:00\n",
       "         ...   \n",
       "298    09:00:00\n",
       "299    09:00:00\n",
       "300    11:15:00\n",
       "301    12:15:00\n",
       "302    14:00:00\n",
       "Name: start_time, Length: 303, dtype: object"
      ]
     },
     "execution_count": 49,
     "metadata": {},
     "output_type": "execute_result"
    }
   ],
   "source": [
    "df['start_time']"
   ]
  },
  {
   "cell_type": "code",
   "execution_count": 50,
   "id": "85f8948f",
   "metadata": {},
   "outputs": [
    {
     "ename": "TypeError",
     "evalue": "unsupported operand type(s) for -: 'datetime.time' and 'datetime.time'",
     "output_type": "error",
     "traceback": [
      "\u001b[1;31m---------------------------------------------------------------------------\u001b[0m",
      "\u001b[1;31mTypeError\u001b[0m                                 Traceback (most recent call last)",
      "\u001b[1;32m~\\anaconda3\\lib\\site-packages\\pandas\\core\\ops\\array_ops.py\u001b[0m in \u001b[0;36m_na_arithmetic_op\u001b[1;34m(left, right, op, is_cmp)\u001b[0m\n\u001b[0;32m    162\u001b[0m     \u001b[1;32mtry\u001b[0m\u001b[1;33m:\u001b[0m\u001b[1;33m\u001b[0m\u001b[1;33m\u001b[0m\u001b[0m\n\u001b[1;32m--> 163\u001b[1;33m         \u001b[0mresult\u001b[0m \u001b[1;33m=\u001b[0m \u001b[0mfunc\u001b[0m\u001b[1;33m(\u001b[0m\u001b[0mleft\u001b[0m\u001b[1;33m,\u001b[0m \u001b[0mright\u001b[0m\u001b[1;33m)\u001b[0m\u001b[1;33m\u001b[0m\u001b[1;33m\u001b[0m\u001b[0m\n\u001b[0m\u001b[0;32m    164\u001b[0m     \u001b[1;32mexcept\u001b[0m \u001b[0mTypeError\u001b[0m\u001b[1;33m:\u001b[0m\u001b[1;33m\u001b[0m\u001b[1;33m\u001b[0m\u001b[0m\n",
      "\u001b[1;32m~\\anaconda3\\lib\\site-packages\\pandas\\core\\computation\\expressions.py\u001b[0m in \u001b[0;36mevaluate\u001b[1;34m(op, a, b, use_numexpr)\u001b[0m\n\u001b[0;32m    238\u001b[0m             \u001b[1;31m# error: \"None\" not callable\u001b[0m\u001b[1;33m\u001b[0m\u001b[1;33m\u001b[0m\u001b[0m\n\u001b[1;32m--> 239\u001b[1;33m             \u001b[1;32mreturn\u001b[0m \u001b[0m_evaluate\u001b[0m\u001b[1;33m(\u001b[0m\u001b[0mop\u001b[0m\u001b[1;33m,\u001b[0m \u001b[0mop_str\u001b[0m\u001b[1;33m,\u001b[0m \u001b[0ma\u001b[0m\u001b[1;33m,\u001b[0m \u001b[0mb\u001b[0m\u001b[1;33m)\u001b[0m  \u001b[1;31m# type: ignore[misc]\u001b[0m\u001b[1;33m\u001b[0m\u001b[1;33m\u001b[0m\u001b[0m\n\u001b[0m\u001b[0;32m    240\u001b[0m     \u001b[1;32mreturn\u001b[0m \u001b[0m_evaluate_standard\u001b[0m\u001b[1;33m(\u001b[0m\u001b[0mop\u001b[0m\u001b[1;33m,\u001b[0m \u001b[0mop_str\u001b[0m\u001b[1;33m,\u001b[0m \u001b[0ma\u001b[0m\u001b[1;33m,\u001b[0m \u001b[0mb\u001b[0m\u001b[1;33m)\u001b[0m\u001b[1;33m\u001b[0m\u001b[1;33m\u001b[0m\u001b[0m\n",
      "\u001b[1;32m~\\anaconda3\\lib\\site-packages\\pandas\\core\\computation\\expressions.py\u001b[0m in \u001b[0;36m_evaluate_numexpr\u001b[1;34m(op, op_str, a, b)\u001b[0m\n\u001b[0;32m    127\u001b[0m     \u001b[1;32mif\u001b[0m \u001b[0mresult\u001b[0m \u001b[1;32mis\u001b[0m \u001b[1;32mNone\u001b[0m\u001b[1;33m:\u001b[0m\u001b[1;33m\u001b[0m\u001b[1;33m\u001b[0m\u001b[0m\n\u001b[1;32m--> 128\u001b[1;33m         \u001b[0mresult\u001b[0m \u001b[1;33m=\u001b[0m \u001b[0m_evaluate_standard\u001b[0m\u001b[1;33m(\u001b[0m\u001b[0mop\u001b[0m\u001b[1;33m,\u001b[0m \u001b[0mop_str\u001b[0m\u001b[1;33m,\u001b[0m \u001b[0ma\u001b[0m\u001b[1;33m,\u001b[0m \u001b[0mb\u001b[0m\u001b[1;33m)\u001b[0m\u001b[1;33m\u001b[0m\u001b[1;33m\u001b[0m\u001b[0m\n\u001b[0m\u001b[0;32m    129\u001b[0m \u001b[1;33m\u001b[0m\u001b[0m\n",
      "\u001b[1;32m~\\anaconda3\\lib\\site-packages\\pandas\\core\\computation\\expressions.py\u001b[0m in \u001b[0;36m_evaluate_standard\u001b[1;34m(op, op_str, a, b)\u001b[0m\n\u001b[0;32m     68\u001b[0m         \u001b[0m_store_test_result\u001b[0m\u001b[1;33m(\u001b[0m\u001b[1;32mFalse\u001b[0m\u001b[1;33m)\u001b[0m\u001b[1;33m\u001b[0m\u001b[1;33m\u001b[0m\u001b[0m\n\u001b[1;32m---> 69\u001b[1;33m     \u001b[1;32mreturn\u001b[0m \u001b[0mop\u001b[0m\u001b[1;33m(\u001b[0m\u001b[0ma\u001b[0m\u001b[1;33m,\u001b[0m \u001b[0mb\u001b[0m\u001b[1;33m)\u001b[0m\u001b[1;33m\u001b[0m\u001b[1;33m\u001b[0m\u001b[0m\n\u001b[0m\u001b[0;32m     70\u001b[0m \u001b[1;33m\u001b[0m\u001b[0m\n",
      "\u001b[1;31mTypeError\u001b[0m: unsupported operand type(s) for -: 'datetime.time' and 'datetime.time'",
      "\nDuring handling of the above exception, another exception occurred:\n",
      "\u001b[1;31mTypeError\u001b[0m                                 Traceback (most recent call last)",
      "\u001b[1;32m~\\AppData\\Local\\Temp\\ipykernel_1509996\\195011162.py\u001b[0m in \u001b[0;36m<module>\u001b[1;34m\u001b[0m\n\u001b[1;32m----> 1\u001b[1;33m \u001b[0mdf\u001b[0m\u001b[1;33m[\u001b[0m\u001b[1;34m'duration'\u001b[0m\u001b[1;33m]\u001b[0m\u001b[1;33m=\u001b[0m\u001b[1;33m(\u001b[0m\u001b[0mdf\u001b[0m\u001b[1;33m[\u001b[0m\u001b[1;34m'end_time'\u001b[0m\u001b[1;33m]\u001b[0m\u001b[1;33m-\u001b[0m\u001b[0mdf\u001b[0m\u001b[1;33m[\u001b[0m\u001b[1;34m'start_time'\u001b[0m\u001b[1;33m]\u001b[0m\u001b[1;33m)\u001b[0m\u001b[1;33m.\u001b[0m\u001b[0mdt\u001b[0m\u001b[1;33m.\u001b[0m\u001b[0mcomponents\u001b[0m\u001b[1;33m.\u001b[0m\u001b[0mhours\u001b[0m\u001b[1;33m\u001b[0m\u001b[1;33m\u001b[0m\u001b[0m\n\u001b[0m",
      "\u001b[1;32m~\\anaconda3\\lib\\site-packages\\pandas\\core\\ops\\common.py\u001b[0m in \u001b[0;36mnew_method\u001b[1;34m(self, other)\u001b[0m\n\u001b[0;32m     68\u001b[0m         \u001b[0mother\u001b[0m \u001b[1;33m=\u001b[0m \u001b[0mitem_from_zerodim\u001b[0m\u001b[1;33m(\u001b[0m\u001b[0mother\u001b[0m\u001b[1;33m)\u001b[0m\u001b[1;33m\u001b[0m\u001b[1;33m\u001b[0m\u001b[0m\n\u001b[0;32m     69\u001b[0m \u001b[1;33m\u001b[0m\u001b[0m\n\u001b[1;32m---> 70\u001b[1;33m         \u001b[1;32mreturn\u001b[0m \u001b[0mmethod\u001b[0m\u001b[1;33m(\u001b[0m\u001b[0mself\u001b[0m\u001b[1;33m,\u001b[0m \u001b[0mother\u001b[0m\u001b[1;33m)\u001b[0m\u001b[1;33m\u001b[0m\u001b[1;33m\u001b[0m\u001b[0m\n\u001b[0m\u001b[0;32m     71\u001b[0m \u001b[1;33m\u001b[0m\u001b[0m\n\u001b[0;32m     72\u001b[0m     \u001b[1;32mreturn\u001b[0m \u001b[0mnew_method\u001b[0m\u001b[1;33m\u001b[0m\u001b[1;33m\u001b[0m\u001b[0m\n",
      "\u001b[1;32m~\\anaconda3\\lib\\site-packages\\pandas\\core\\arraylike.py\u001b[0m in \u001b[0;36m__sub__\u001b[1;34m(self, other)\u001b[0m\n\u001b[0;32m    106\u001b[0m     \u001b[1;33m@\u001b[0m\u001b[0munpack_zerodim_and_defer\u001b[0m\u001b[1;33m(\u001b[0m\u001b[1;34m\"__sub__\"\u001b[0m\u001b[1;33m)\u001b[0m\u001b[1;33m\u001b[0m\u001b[1;33m\u001b[0m\u001b[0m\n\u001b[0;32m    107\u001b[0m     \u001b[1;32mdef\u001b[0m \u001b[0m__sub__\u001b[0m\u001b[1;33m(\u001b[0m\u001b[0mself\u001b[0m\u001b[1;33m,\u001b[0m \u001b[0mother\u001b[0m\u001b[1;33m)\u001b[0m\u001b[1;33m:\u001b[0m\u001b[1;33m\u001b[0m\u001b[1;33m\u001b[0m\u001b[0m\n\u001b[1;32m--> 108\u001b[1;33m         \u001b[1;32mreturn\u001b[0m \u001b[0mself\u001b[0m\u001b[1;33m.\u001b[0m\u001b[0m_arith_method\u001b[0m\u001b[1;33m(\u001b[0m\u001b[0mother\u001b[0m\u001b[1;33m,\u001b[0m \u001b[0moperator\u001b[0m\u001b[1;33m.\u001b[0m\u001b[0msub\u001b[0m\u001b[1;33m)\u001b[0m\u001b[1;33m\u001b[0m\u001b[1;33m\u001b[0m\u001b[0m\n\u001b[0m\u001b[0;32m    109\u001b[0m \u001b[1;33m\u001b[0m\u001b[0m\n\u001b[0;32m    110\u001b[0m     \u001b[1;33m@\u001b[0m\u001b[0munpack_zerodim_and_defer\u001b[0m\u001b[1;33m(\u001b[0m\u001b[1;34m\"__rsub__\"\u001b[0m\u001b[1;33m)\u001b[0m\u001b[1;33m\u001b[0m\u001b[1;33m\u001b[0m\u001b[0m\n",
      "\u001b[1;32m~\\anaconda3\\lib\\site-packages\\pandas\\core\\series.py\u001b[0m in \u001b[0;36m_arith_method\u001b[1;34m(self, other, op)\u001b[0m\n\u001b[0;32m   5637\u001b[0m     \u001b[1;32mdef\u001b[0m \u001b[0m_arith_method\u001b[0m\u001b[1;33m(\u001b[0m\u001b[0mself\u001b[0m\u001b[1;33m,\u001b[0m \u001b[0mother\u001b[0m\u001b[1;33m,\u001b[0m \u001b[0mop\u001b[0m\u001b[1;33m)\u001b[0m\u001b[1;33m:\u001b[0m\u001b[1;33m\u001b[0m\u001b[1;33m\u001b[0m\u001b[0m\n\u001b[0;32m   5638\u001b[0m         \u001b[0mself\u001b[0m\u001b[1;33m,\u001b[0m \u001b[0mother\u001b[0m \u001b[1;33m=\u001b[0m \u001b[0mops\u001b[0m\u001b[1;33m.\u001b[0m\u001b[0malign_method_SERIES\u001b[0m\u001b[1;33m(\u001b[0m\u001b[0mself\u001b[0m\u001b[1;33m,\u001b[0m \u001b[0mother\u001b[0m\u001b[1;33m)\u001b[0m\u001b[1;33m\u001b[0m\u001b[1;33m\u001b[0m\u001b[0m\n\u001b[1;32m-> 5639\u001b[1;33m         \u001b[1;32mreturn\u001b[0m \u001b[0mbase\u001b[0m\u001b[1;33m.\u001b[0m\u001b[0mIndexOpsMixin\u001b[0m\u001b[1;33m.\u001b[0m\u001b[0m_arith_method\u001b[0m\u001b[1;33m(\u001b[0m\u001b[0mself\u001b[0m\u001b[1;33m,\u001b[0m \u001b[0mother\u001b[0m\u001b[1;33m,\u001b[0m \u001b[0mop\u001b[0m\u001b[1;33m)\u001b[0m\u001b[1;33m\u001b[0m\u001b[1;33m\u001b[0m\u001b[0m\n\u001b[0m\u001b[0;32m   5640\u001b[0m \u001b[1;33m\u001b[0m\u001b[0m\n\u001b[0;32m   5641\u001b[0m \u001b[1;33m\u001b[0m\u001b[0m\n",
      "\u001b[1;32m~\\anaconda3\\lib\\site-packages\\pandas\\core\\base.py\u001b[0m in \u001b[0;36m_arith_method\u001b[1;34m(self, other, op)\u001b[0m\n\u001b[0;32m   1293\u001b[0m \u001b[1;33m\u001b[0m\u001b[0m\n\u001b[0;32m   1294\u001b[0m         \u001b[1;32mwith\u001b[0m \u001b[0mnp\u001b[0m\u001b[1;33m.\u001b[0m\u001b[0merrstate\u001b[0m\u001b[1;33m(\u001b[0m\u001b[0mall\u001b[0m\u001b[1;33m=\u001b[0m\u001b[1;34m\"ignore\"\u001b[0m\u001b[1;33m)\u001b[0m\u001b[1;33m:\u001b[0m\u001b[1;33m\u001b[0m\u001b[1;33m\u001b[0m\u001b[0m\n\u001b[1;32m-> 1295\u001b[1;33m             \u001b[0mresult\u001b[0m \u001b[1;33m=\u001b[0m \u001b[0mops\u001b[0m\u001b[1;33m.\u001b[0m\u001b[0marithmetic_op\u001b[0m\u001b[1;33m(\u001b[0m\u001b[0mlvalues\u001b[0m\u001b[1;33m,\u001b[0m \u001b[0mrvalues\u001b[0m\u001b[1;33m,\u001b[0m \u001b[0mop\u001b[0m\u001b[1;33m)\u001b[0m\u001b[1;33m\u001b[0m\u001b[1;33m\u001b[0m\u001b[0m\n\u001b[0m\u001b[0;32m   1296\u001b[0m \u001b[1;33m\u001b[0m\u001b[0m\n\u001b[0;32m   1297\u001b[0m         \u001b[1;32mreturn\u001b[0m \u001b[0mself\u001b[0m\u001b[1;33m.\u001b[0m\u001b[0m_construct_result\u001b[0m\u001b[1;33m(\u001b[0m\u001b[0mresult\u001b[0m\u001b[1;33m,\u001b[0m \u001b[0mname\u001b[0m\u001b[1;33m=\u001b[0m\u001b[0mres_name\u001b[0m\u001b[1;33m)\u001b[0m\u001b[1;33m\u001b[0m\u001b[1;33m\u001b[0m\u001b[0m\n",
      "\u001b[1;32m~\\anaconda3\\lib\\site-packages\\pandas\\core\\ops\\array_ops.py\u001b[0m in \u001b[0;36marithmetic_op\u001b[1;34m(left, right, op)\u001b[0m\n\u001b[0;32m    220\u001b[0m         \u001b[0m_bool_arith_check\u001b[0m\u001b[1;33m(\u001b[0m\u001b[0mop\u001b[0m\u001b[1;33m,\u001b[0m \u001b[0mleft\u001b[0m\u001b[1;33m,\u001b[0m \u001b[0mright\u001b[0m\u001b[1;33m)\u001b[0m\u001b[1;33m\u001b[0m\u001b[1;33m\u001b[0m\u001b[0m\n\u001b[0;32m    221\u001b[0m \u001b[1;33m\u001b[0m\u001b[0m\n\u001b[1;32m--> 222\u001b[1;33m         \u001b[0mres_values\u001b[0m \u001b[1;33m=\u001b[0m \u001b[0m_na_arithmetic_op\u001b[0m\u001b[1;33m(\u001b[0m\u001b[0mleft\u001b[0m\u001b[1;33m,\u001b[0m \u001b[0mright\u001b[0m\u001b[1;33m,\u001b[0m \u001b[0mop\u001b[0m\u001b[1;33m)\u001b[0m\u001b[1;33m\u001b[0m\u001b[1;33m\u001b[0m\u001b[0m\n\u001b[0m\u001b[0;32m    223\u001b[0m \u001b[1;33m\u001b[0m\u001b[0m\n\u001b[0;32m    224\u001b[0m     \u001b[1;32mreturn\u001b[0m \u001b[0mres_values\u001b[0m\u001b[1;33m\u001b[0m\u001b[1;33m\u001b[0m\u001b[0m\n",
      "\u001b[1;32m~\\anaconda3\\lib\\site-packages\\pandas\\core\\ops\\array_ops.py\u001b[0m in \u001b[0;36m_na_arithmetic_op\u001b[1;34m(left, right, op, is_cmp)\u001b[0m\n\u001b[0;32m    168\u001b[0m             \u001b[1;31m# Don't do this for comparisons, as that will handle complex numbers\u001b[0m\u001b[1;33m\u001b[0m\u001b[1;33m\u001b[0m\u001b[0m\n\u001b[0;32m    169\u001b[0m             \u001b[1;31m#  incorrectly, see GH#32047\u001b[0m\u001b[1;33m\u001b[0m\u001b[1;33m\u001b[0m\u001b[0m\n\u001b[1;32m--> 170\u001b[1;33m             \u001b[0mresult\u001b[0m \u001b[1;33m=\u001b[0m \u001b[0m_masked_arith_op\u001b[0m\u001b[1;33m(\u001b[0m\u001b[0mleft\u001b[0m\u001b[1;33m,\u001b[0m \u001b[0mright\u001b[0m\u001b[1;33m,\u001b[0m \u001b[0mop\u001b[0m\u001b[1;33m)\u001b[0m\u001b[1;33m\u001b[0m\u001b[1;33m\u001b[0m\u001b[0m\n\u001b[0m\u001b[0;32m    171\u001b[0m         \u001b[1;32melse\u001b[0m\u001b[1;33m:\u001b[0m\u001b[1;33m\u001b[0m\u001b[1;33m\u001b[0m\u001b[0m\n\u001b[0;32m    172\u001b[0m             \u001b[1;32mraise\u001b[0m\u001b[1;33m\u001b[0m\u001b[1;33m\u001b[0m\u001b[0m\n",
      "\u001b[1;32m~\\anaconda3\\lib\\site-packages\\pandas\\core\\ops\\array_ops.py\u001b[0m in \u001b[0;36m_masked_arith_op\u001b[1;34m(x, y, op)\u001b[0m\n\u001b[0;32m    106\u001b[0m         \u001b[1;31m# See GH#5284, GH#5035, GH#19448 for historical reference\u001b[0m\u001b[1;33m\u001b[0m\u001b[1;33m\u001b[0m\u001b[0m\n\u001b[0;32m    107\u001b[0m         \u001b[1;32mif\u001b[0m \u001b[0mmask\u001b[0m\u001b[1;33m.\u001b[0m\u001b[0many\u001b[0m\u001b[1;33m(\u001b[0m\u001b[1;33m)\u001b[0m\u001b[1;33m:\u001b[0m\u001b[1;33m\u001b[0m\u001b[1;33m\u001b[0m\u001b[0m\n\u001b[1;32m--> 108\u001b[1;33m             \u001b[0mresult\u001b[0m\u001b[1;33m[\u001b[0m\u001b[0mmask\u001b[0m\u001b[1;33m]\u001b[0m \u001b[1;33m=\u001b[0m \u001b[0mop\u001b[0m\u001b[1;33m(\u001b[0m\u001b[0mxrav\u001b[0m\u001b[1;33m[\u001b[0m\u001b[0mmask\u001b[0m\u001b[1;33m]\u001b[0m\u001b[1;33m,\u001b[0m \u001b[0myrav\u001b[0m\u001b[1;33m[\u001b[0m\u001b[0mmask\u001b[0m\u001b[1;33m]\u001b[0m\u001b[1;33m)\u001b[0m\u001b[1;33m\u001b[0m\u001b[1;33m\u001b[0m\u001b[0m\n\u001b[0m\u001b[0;32m    109\u001b[0m \u001b[1;33m\u001b[0m\u001b[0m\n\u001b[0;32m    110\u001b[0m     \u001b[1;32melse\u001b[0m\u001b[1;33m:\u001b[0m\u001b[1;33m\u001b[0m\u001b[1;33m\u001b[0m\u001b[0m\n",
      "\u001b[1;31mTypeError\u001b[0m: unsupported operand type(s) for -: 'datetime.time' and 'datetime.time'"
     ]
    }
   ],
   "source": [
    "df['duration']=(df['end_time']-df['start_time']).dt.components.hours"
   ]
  },
  {
   "cell_type": "code",
   "execution_count": 51,
   "id": "1aa6d8f7",
   "metadata": {},
   "outputs": [
    {
     "data": {
      "text/html": [
       "<div>\n",
       "<style scoped>\n",
       "    .dataframe tbody tr th:only-of-type {\n",
       "        vertical-align: middle;\n",
       "    }\n",
       "\n",
       "    .dataframe tbody tr th {\n",
       "        vertical-align: top;\n",
       "    }\n",
       "\n",
       "    .dataframe thead th {\n",
       "        text-align: right;\n",
       "    }\n",
       "</style>\n",
       "<table border=\"1\" class=\"dataframe\">\n",
       "  <thead>\n",
       "    <tr style=\"text-align: right;\">\n",
       "      <th></th>\n",
       "      <th>serial_num</th>\n",
       "      <th>subject_code</th>\n",
       "      <th>course_type</th>\n",
       "      <th>lab_or_lecture</th>\n",
       "      <th>department</th>\n",
       "      <th>branch</th>\n",
       "      <th>batch</th>\n",
       "      <th>faculty_code</th>\n",
       "      <th>floor</th>\n",
       "      <th>room_num</th>\n",
       "      <th>day</th>\n",
       "      <th>start_time</th>\n",
       "      <th>end_time</th>\n",
       "      <th>year</th>\n",
       "      <th>duration</th>\n",
       "    </tr>\n",
       "  </thead>\n",
       "  <tbody>\n",
       "    <tr>\n",
       "      <th>0</th>\n",
       "      <td>1.0</td>\n",
       "      <td>NLP</td>\n",
       "      <td>PE</td>\n",
       "      <td>lecture</td>\n",
       "      <td>all</td>\n",
       "      <td>all</td>\n",
       "      <td>N</td>\n",
       "      <td>RK</td>\n",
       "      <td>6</td>\n",
       "      <td>601</td>\n",
       "      <td>monday</td>\n",
       "      <td>09:00:00</td>\n",
       "      <td>11:00:00</td>\n",
       "      <td>TE</td>\n",
       "      <td>2</td>\n",
       "    </tr>\n",
       "    <tr>\n",
       "      <th>1</th>\n",
       "      <td>2.0</td>\n",
       "      <td>BAP</td>\n",
       "      <td>PE</td>\n",
       "      <td>lab</td>\n",
       "      <td>all</td>\n",
       "      <td>all</td>\n",
       "      <td>F</td>\n",
       "      <td>SC</td>\n",
       "      <td>4</td>\n",
       "      <td>410B</td>\n",
       "      <td>monday</td>\n",
       "      <td>09:00:00</td>\n",
       "      <td>11:00:00</td>\n",
       "      <td>TE</td>\n",
       "      <td>2</td>\n",
       "    </tr>\n",
       "    <tr>\n",
       "      <th>2</th>\n",
       "      <td>3.0</td>\n",
       "      <td>EH</td>\n",
       "      <td>PE</td>\n",
       "      <td>lab</td>\n",
       "      <td>all</td>\n",
       "      <td>all</td>\n",
       "      <td>B</td>\n",
       "      <td>RP</td>\n",
       "      <td>4</td>\n",
       "      <td>406A</td>\n",
       "      <td>monday</td>\n",
       "      <td>09:00:00</td>\n",
       "      <td>11:00:00</td>\n",
       "      <td>TE</td>\n",
       "      <td>2</td>\n",
       "    </tr>\n",
       "    <tr>\n",
       "      <th>3</th>\n",
       "      <td>4.0</td>\n",
       "      <td>BCT</td>\n",
       "      <td>PE</td>\n",
       "      <td>lab</td>\n",
       "      <td>all</td>\n",
       "      <td>all</td>\n",
       "      <td>C-PE</td>\n",
       "      <td>DDA</td>\n",
       "      <td>4</td>\n",
       "      <td>404</td>\n",
       "      <td>monday</td>\n",
       "      <td>09:00:00</td>\n",
       "      <td>11:00:00</td>\n",
       "      <td>TE</td>\n",
       "      <td>2</td>\n",
       "    </tr>\n",
       "    <tr>\n",
       "      <th>4</th>\n",
       "      <td>5.0</td>\n",
       "      <td>DC</td>\n",
       "      <td>PC</td>\n",
       "      <td>lecture</td>\n",
       "      <td>CSE</td>\n",
       "      <td>DS</td>\n",
       "      <td>all</td>\n",
       "      <td>SBG</td>\n",
       "      <td>4</td>\n",
       "      <td>407</td>\n",
       "      <td>monday</td>\n",
       "      <td>11:15:00</td>\n",
       "      <td>12:15:00</td>\n",
       "      <td>TE</td>\n",
       "      <td>1</td>\n",
       "    </tr>\n",
       "    <tr>\n",
       "      <th>...</th>\n",
       "      <td>...</td>\n",
       "      <td>...</td>\n",
       "      <td>...</td>\n",
       "      <td>...</td>\n",
       "      <td>...</td>\n",
       "      <td>...</td>\n",
       "      <td>...</td>\n",
       "      <td>...</td>\n",
       "      <td>...</td>\n",
       "      <td>...</td>\n",
       "      <td>...</td>\n",
       "      <td>...</td>\n",
       "      <td>...</td>\n",
       "      <td>...</td>\n",
       "      <td>...</td>\n",
       "    </tr>\n",
       "    <tr>\n",
       "      <th>298</th>\n",
       "      <td>299.0</td>\n",
       "      <td>LA</td>\n",
       "      <td>BSC</td>\n",
       "      <td>lab</td>\n",
       "      <td>CSE</td>\n",
       "      <td>AIML</td>\n",
       "      <td>A</td>\n",
       "      <td>RM</td>\n",
       "      <td>4</td>\n",
       "      <td>404</td>\n",
       "      <td>friday</td>\n",
       "      <td>09:00:00</td>\n",
       "      <td>11:00:00</td>\n",
       "      <td>SE</td>\n",
       "      <td>2</td>\n",
       "    </tr>\n",
       "    <tr>\n",
       "      <th>299</th>\n",
       "      <td>300.0</td>\n",
       "      <td>CCN</td>\n",
       "      <td>PC</td>\n",
       "      <td>lab</td>\n",
       "      <td>CSE</td>\n",
       "      <td>AIML</td>\n",
       "      <td>C</td>\n",
       "      <td>AVN</td>\n",
       "      <td>4</td>\n",
       "      <td>410B</td>\n",
       "      <td>friday</td>\n",
       "      <td>09:00:00</td>\n",
       "      <td>11:00:00</td>\n",
       "      <td>SE</td>\n",
       "      <td>2</td>\n",
       "    </tr>\n",
       "    <tr>\n",
       "      <th>300</th>\n",
       "      <td>301.0</td>\n",
       "      <td>OS</td>\n",
       "      <td>PC</td>\n",
       "      <td>lecture</td>\n",
       "      <td>CSE</td>\n",
       "      <td>AIML</td>\n",
       "      <td>N</td>\n",
       "      <td>AT</td>\n",
       "      <td>4</td>\n",
       "      <td>405</td>\n",
       "      <td>friday</td>\n",
       "      <td>11:15:00</td>\n",
       "      <td>12:15:00</td>\n",
       "      <td>SE</td>\n",
       "      <td>1</td>\n",
       "    </tr>\n",
       "    <tr>\n",
       "      <th>301</th>\n",
       "      <td>302.0</td>\n",
       "      <td>OS</td>\n",
       "      <td>PC</td>\n",
       "      <td>lecture</td>\n",
       "      <td>CSE</td>\n",
       "      <td>AIML</td>\n",
       "      <td>N</td>\n",
       "      <td>AT</td>\n",
       "      <td>4</td>\n",
       "      <td>405</td>\n",
       "      <td>friday</td>\n",
       "      <td>12:15:00</td>\n",
       "      <td>13:15:00</td>\n",
       "      <td>SE</td>\n",
       "      <td>1</td>\n",
       "    </tr>\n",
       "    <tr>\n",
       "      <th>302</th>\n",
       "      <td>303.0</td>\n",
       "      <td>FOM-II</td>\n",
       "      <td>BSC(LE)</td>\n",
       "      <td>lecture</td>\n",
       "      <td>all</td>\n",
       "      <td>all</td>\n",
       "      <td>N</td>\n",
       "      <td>RRS</td>\n",
       "      <td>3</td>\n",
       "      <td>309</td>\n",
       "      <td>friday</td>\n",
       "      <td>14:00:00</td>\n",
       "      <td>15:00:00</td>\n",
       "      <td>SE</td>\n",
       "      <td>1</td>\n",
       "    </tr>\n",
       "  </tbody>\n",
       "</table>\n",
       "<p>303 rows × 15 columns</p>\n",
       "</div>"
      ],
      "text/plain": [
       "     serial_num subject_code course_type lab_or_lecture department branch  \\\n",
       "0           1.0          NLP          PE        lecture        all    all   \n",
       "1           2.0          BAP          PE            lab        all    all   \n",
       "2           3.0           EH          PE            lab        all    all   \n",
       "3           4.0          BCT          PE            lab        all    all   \n",
       "4           5.0           DC          PC        lecture        CSE     DS   \n",
       "..          ...          ...         ...            ...        ...    ...   \n",
       "298       299.0           LA         BSC            lab        CSE   AIML   \n",
       "299       300.0          CCN          PC            lab        CSE   AIML   \n",
       "300       301.0           OS          PC        lecture        CSE   AIML   \n",
       "301       302.0           OS          PC        lecture        CSE   AIML   \n",
       "302       303.0       FOM-II     BSC(LE)        lecture        all    all   \n",
       "\n",
       "    batch faculty_code floor room_num     day start_time  end_time year  \\\n",
       "0       N           RK     6      601  monday   09:00:00  11:00:00   TE   \n",
       "1       F           SC     4     410B  monday   09:00:00  11:00:00   TE   \n",
       "2       B           RP     4     406A  monday   09:00:00  11:00:00   TE   \n",
       "3    C-PE          DDA     4      404  monday   09:00:00  11:00:00   TE   \n",
       "4     all          SBG     4      407  monday   11:15:00  12:15:00   TE   \n",
       "..    ...          ...   ...      ...     ...        ...       ...  ...   \n",
       "298     A           RM     4      404  friday   09:00:00  11:00:00   SE   \n",
       "299     C          AVN     4     410B  friday   09:00:00  11:00:00   SE   \n",
       "300     N           AT     4      405  friday   11:15:00  12:15:00   SE   \n",
       "301     N           AT     4      405  friday   12:15:00  13:15:00   SE   \n",
       "302     N          RRS     3      309  friday   14:00:00  15:00:00   SE   \n",
       "\n",
       "     duration  \n",
       "0           2  \n",
       "1           2  \n",
       "2           2  \n",
       "3           2  \n",
       "4           1  \n",
       "..        ...  \n",
       "298         2  \n",
       "299         2  \n",
       "300         1  \n",
       "301         1  \n",
       "302         1  \n",
       "\n",
       "[303 rows x 15 columns]"
      ]
     },
     "execution_count": 51,
     "metadata": {},
     "output_type": "execute_result"
    }
   ],
   "source": [
    "df"
   ]
  },
  {
   "cell_type": "code",
   "execution_count": 2,
   "id": "44f37c93",
   "metadata": {},
   "outputs": [
    {
     "ename": "NameError",
     "evalue": "name 'df' is not defined",
     "output_type": "error",
     "traceback": [
      "\u001b[1;31m---------------------------------------------------------------------------\u001b[0m",
      "\u001b[1;31mNameError\u001b[0m                                 Traceback (most recent call last)",
      "\u001b[1;32m~\\AppData\\Local\\Temp\\ipykernel_415692\\366283264.py\u001b[0m in \u001b[0;36m<module>\u001b[1;34m\u001b[0m\n\u001b[1;32m----> 1\u001b[1;33m \u001b[0mdf\u001b[0m\u001b[1;33m.\u001b[0m\u001b[0mto_csv\u001b[0m\u001b[1;33m(\u001b[0m\u001b[1;34m'bap_ise_data.csv'\u001b[0m\u001b[1;33m,\u001b[0m \u001b[0mindex\u001b[0m\u001b[1;33m=\u001b[0m\u001b[1;32mFalse\u001b[0m\u001b[1;33m)\u001b[0m\u001b[1;33m\u001b[0m\u001b[1;33m\u001b[0m\u001b[0m\n\u001b[0m",
      "\u001b[1;31mNameError\u001b[0m: name 'df' is not defined"
     ]
    }
   ],
   "source": [
    "df.to_csv('bap_ise_data.csv', index=False)"
   ]
  },
  {
   "cell_type": "code",
   "execution_count": 2,
   "id": "0bf9ffab",
   "metadata": {},
   "outputs": [],
   "source": [
    "import pandas as pd"
   ]
  },
  {
   "cell_type": "code",
   "execution_count": 3,
   "id": "07b1ab75",
   "metadata": {},
   "outputs": [],
   "source": [
    "df=pd.read_csv('bap_ise_data.csv')"
   ]
  },
  {
   "cell_type": "code",
   "execution_count": 67,
   "id": "93ccbb9c",
   "metadata": {},
   "outputs": [
    {
     "data": {
      "text/plain": [
       "42"
      ]
     },
     "execution_count": 67,
     "metadata": {},
     "output_type": "execute_result"
    }
   ],
   "source": [
    "len(df['room_num'].unique())"
   ]
  },
  {
   "cell_type": "code",
   "execution_count": 8,
   "id": "4fa08049",
   "metadata": {},
   "outputs": [],
   "source": [
    "arr=[\n",
    "  \"609\",\n",
    "  \"411\",\n",
    "  \"606-4\",\n",
    "  \"406A\",\n",
    "  \"404\",\n",
    "  \"604\",\n",
    "  \"702B\",\n",
    "  \"408\",\n",
    "  \"601\",\n",
    "  \"605\",\n",
    "  \"603C\",\n",
    "  \"online\",\n",
    "  \"410B\",\n",
    "  \"506B\",\n",
    "  \"407\",\n",
    "  \"702A\",\n",
    "  \"412\",\n",
    "  \"606\",\n",
    "  \"203\",\n",
    "  \"608\",\n",
    "  \"606A\",\n",
    "  \"603-3\",\n",
    "  \"309\",\n",
    "  \"008\",\n",
    "  \"409\",\n",
    "  \"503\",\n",
    "  \"405\",\n",
    "  \"603A\",\n",
    "  \"801\",\n",
    "  \"603-2\",\n",
    "  \"606B\",\n",
    "  \"607B\",\n",
    "  \"702\",\n",
    "  \"606-5\",\n",
    "  \"603\",\n",
    "  \"410C\",\n",
    "  \"603B\",\n",
    "  \"410A\",\n",
    "  \"406B\",\n",
    "  \"509\",\n",
    "  \"308\",\n",
    "  \"703\"\n",
    "]"
   ]
  },
  {
   "cell_type": "code",
   "execution_count": 9,
   "id": "eb112aa7",
   "metadata": {},
   "outputs": [
    {
     "data": {
      "text/plain": [
       "42"
      ]
     },
     "execution_count": 9,
     "metadata": {},
     "output_type": "execute_result"
    }
   ],
   "source": [
    "len(arr)"
   ]
  },
  {
   "cell_type": "code",
   "execution_count": 27,
   "id": "8fb1b126",
   "metadata": {},
   "outputs": [],
   "source": [
    "start='9:00'\n",
    "end='10:00'"
   ]
  },
  {
   "cell_type": "code",
   "execution_count": 22,
   "id": "88dcebc5",
   "metadata": {},
   "outputs": [
    {
     "data": {
      "text/plain": [
       "datetime.time(9, 0)"
      ]
     },
     "execution_count": 22,
     "metadata": {},
     "output_type": "execute_result"
    }
   ],
   "source": [
    "start_time = pd.to_datetime(start, format='%H:%M').time()\n",
    "strstart_time"
   ]
  },
  {
   "cell_type": "code",
   "execution_count": 15,
   "id": "2fbcb630",
   "metadata": {},
   "outputs": [
    {
     "ename": "ValueError",
     "evalue": "unconverted data remains: :00",
     "output_type": "error",
     "traceback": [
      "\u001b[1;31m---------------------------------------------------------------------------\u001b[0m",
      "\u001b[1;31mTypeError\u001b[0m                                 Traceback (most recent call last)",
      "\u001b[1;32m~\\anaconda3\\lib\\site-packages\\pandas\\core\\tools\\datetimes.py\u001b[0m in \u001b[0;36m_to_datetime_with_format\u001b[1;34m(arg, orig_arg, name, tz, fmt, exact, errors, infer_datetime_format)\u001b[0m\n\u001b[0;32m    509\u001b[0m         \u001b[1;32mtry\u001b[0m\u001b[1;33m:\u001b[0m\u001b[1;33m\u001b[0m\u001b[1;33m\u001b[0m\u001b[0m\n\u001b[1;32m--> 510\u001b[1;33m             \u001b[0mvalues\u001b[0m\u001b[1;33m,\u001b[0m \u001b[0mtz\u001b[0m \u001b[1;33m=\u001b[0m \u001b[0mconversion\u001b[0m\u001b[1;33m.\u001b[0m\u001b[0mdatetime_to_datetime64\u001b[0m\u001b[1;33m(\u001b[0m\u001b[0marg\u001b[0m\u001b[1;33m)\u001b[0m\u001b[1;33m\u001b[0m\u001b[1;33m\u001b[0m\u001b[0m\n\u001b[0m\u001b[0;32m    511\u001b[0m             \u001b[0mdta\u001b[0m \u001b[1;33m=\u001b[0m \u001b[0mDatetimeArray\u001b[0m\u001b[1;33m(\u001b[0m\u001b[0mvalues\u001b[0m\u001b[1;33m,\u001b[0m \u001b[0mdtype\u001b[0m\u001b[1;33m=\u001b[0m\u001b[0mtz_to_dtype\u001b[0m\u001b[1;33m(\u001b[0m\u001b[0mtz\u001b[0m\u001b[1;33m)\u001b[0m\u001b[1;33m)\u001b[0m\u001b[1;33m\u001b[0m\u001b[1;33m\u001b[0m\u001b[0m\n",
      "\u001b[1;32m~\\anaconda3\\lib\\site-packages\\pandas\\_libs\\tslibs\\conversion.pyx\u001b[0m in \u001b[0;36mpandas._libs.tslibs.conversion.datetime_to_datetime64\u001b[1;34m()\u001b[0m\n",
      "\u001b[1;31mTypeError\u001b[0m: Unrecognized value type: <class 'str'>",
      "\nDuring handling of the above exception, another exception occurred:\n",
      "\u001b[1;31mValueError\u001b[0m                                Traceback (most recent call last)",
      "\u001b[1;32m~\\AppData\\Local\\Temp\\ipykernel_252080\\636164738.py\u001b[0m in \u001b[0;36m<module>\u001b[1;34m\u001b[0m\n\u001b[1;32m----> 1\u001b[1;33m \u001b[0mdf\u001b[0m\u001b[1;33m[\u001b[0m\u001b[1;34m'start_time'\u001b[0m\u001b[1;33m]\u001b[0m \u001b[1;33m=\u001b[0m \u001b[0mpd\u001b[0m\u001b[1;33m.\u001b[0m\u001b[0mto_datetime\u001b[0m\u001b[1;33m(\u001b[0m\u001b[0mdf\u001b[0m\u001b[1;33m[\u001b[0m\u001b[1;34m'start_time'\u001b[0m\u001b[1;33m]\u001b[0m\u001b[1;33m,\u001b[0m \u001b[0mformat\u001b[0m\u001b[1;33m=\u001b[0m\u001b[1;34m'%H:%M'\u001b[0m\u001b[1;33m)\u001b[0m\u001b[1;33m.\u001b[0m\u001b[0mdt\u001b[0m\u001b[1;33m.\u001b[0m\u001b[0mtime\u001b[0m\u001b[1;33m\u001b[0m\u001b[1;33m\u001b[0m\u001b[0m\n\u001b[0m",
      "\u001b[1;32m~\\anaconda3\\lib\\site-packages\\pandas\\core\\tools\\datetimes.py\u001b[0m in \u001b[0;36mto_datetime\u001b[1;34m(arg, errors, dayfirst, yearfirst, utc, format, exact, unit, infer_datetime_format, origin, cache)\u001b[0m\n\u001b[0;32m   1045\u001b[0m                 \u001b[0mresult\u001b[0m \u001b[1;33m=\u001b[0m \u001b[0marg\u001b[0m\u001b[1;33m.\u001b[0m\u001b[0mtz_localize\u001b[0m\u001b[1;33m(\u001b[0m\u001b[0mtz\u001b[0m\u001b[1;33m)\u001b[0m\u001b[1;33m\u001b[0m\u001b[1;33m\u001b[0m\u001b[0m\n\u001b[0;32m   1046\u001b[0m     \u001b[1;32melif\u001b[0m \u001b[0misinstance\u001b[0m\u001b[1;33m(\u001b[0m\u001b[0marg\u001b[0m\u001b[1;33m,\u001b[0m \u001b[0mABCSeries\u001b[0m\u001b[1;33m)\u001b[0m\u001b[1;33m:\u001b[0m\u001b[1;33m\u001b[0m\u001b[1;33m\u001b[0m\u001b[0m\n\u001b[1;32m-> 1047\u001b[1;33m         \u001b[0mcache_array\u001b[0m \u001b[1;33m=\u001b[0m \u001b[0m_maybe_cache\u001b[0m\u001b[1;33m(\u001b[0m\u001b[0marg\u001b[0m\u001b[1;33m,\u001b[0m \u001b[0mformat\u001b[0m\u001b[1;33m,\u001b[0m \u001b[0mcache\u001b[0m\u001b[1;33m,\u001b[0m \u001b[0mconvert_listlike\u001b[0m\u001b[1;33m)\u001b[0m\u001b[1;33m\u001b[0m\u001b[1;33m\u001b[0m\u001b[0m\n\u001b[0m\u001b[0;32m   1048\u001b[0m         \u001b[1;32mif\u001b[0m \u001b[1;32mnot\u001b[0m \u001b[0mcache_array\u001b[0m\u001b[1;33m.\u001b[0m\u001b[0mempty\u001b[0m\u001b[1;33m:\u001b[0m\u001b[1;33m\u001b[0m\u001b[1;33m\u001b[0m\u001b[0m\n\u001b[0;32m   1049\u001b[0m             \u001b[0mresult\u001b[0m \u001b[1;33m=\u001b[0m \u001b[0marg\u001b[0m\u001b[1;33m.\u001b[0m\u001b[0mmap\u001b[0m\u001b[1;33m(\u001b[0m\u001b[0mcache_array\u001b[0m\u001b[1;33m)\u001b[0m\u001b[1;33m\u001b[0m\u001b[1;33m\u001b[0m\u001b[0m\n",
      "\u001b[1;32m~\\anaconda3\\lib\\site-packages\\pandas\\core\\tools\\datetimes.py\u001b[0m in \u001b[0;36m_maybe_cache\u001b[1;34m(arg, format, cache, convert_listlike)\u001b[0m\n\u001b[0;32m    195\u001b[0m         \u001b[0munique_dates\u001b[0m \u001b[1;33m=\u001b[0m \u001b[0munique\u001b[0m\u001b[1;33m(\u001b[0m\u001b[0marg\u001b[0m\u001b[1;33m)\u001b[0m\u001b[1;33m\u001b[0m\u001b[1;33m\u001b[0m\u001b[0m\n\u001b[0;32m    196\u001b[0m         \u001b[1;32mif\u001b[0m \u001b[0mlen\u001b[0m\u001b[1;33m(\u001b[0m\u001b[0munique_dates\u001b[0m\u001b[1;33m)\u001b[0m \u001b[1;33m<\u001b[0m \u001b[0mlen\u001b[0m\u001b[1;33m(\u001b[0m\u001b[0marg\u001b[0m\u001b[1;33m)\u001b[0m\u001b[1;33m:\u001b[0m\u001b[1;33m\u001b[0m\u001b[1;33m\u001b[0m\u001b[0m\n\u001b[1;32m--> 197\u001b[1;33m             \u001b[0mcache_dates\u001b[0m \u001b[1;33m=\u001b[0m \u001b[0mconvert_listlike\u001b[0m\u001b[1;33m(\u001b[0m\u001b[0munique_dates\u001b[0m\u001b[1;33m,\u001b[0m \u001b[0mformat\u001b[0m\u001b[1;33m)\u001b[0m\u001b[1;33m\u001b[0m\u001b[1;33m\u001b[0m\u001b[0m\n\u001b[0m\u001b[0;32m    198\u001b[0m             \u001b[0mcache_array\u001b[0m \u001b[1;33m=\u001b[0m \u001b[0mSeries\u001b[0m\u001b[1;33m(\u001b[0m\u001b[0mcache_dates\u001b[0m\u001b[1;33m,\u001b[0m \u001b[0mindex\u001b[0m\u001b[1;33m=\u001b[0m\u001b[0munique_dates\u001b[0m\u001b[1;33m)\u001b[0m\u001b[1;33m\u001b[0m\u001b[1;33m\u001b[0m\u001b[0m\n\u001b[0;32m    199\u001b[0m             \u001b[1;31m# GH#39882 and GH#35888 in case of None and NaT we get duplicates\u001b[0m\u001b[1;33m\u001b[0m\u001b[1;33m\u001b[0m\u001b[0m\n",
      "\u001b[1;32m~\\anaconda3\\lib\\site-packages\\pandas\\core\\tools\\datetimes.py\u001b[0m in \u001b[0;36m_convert_listlike_datetimes\u001b[1;34m(arg, format, name, tz, unit, errors, infer_datetime_format, dayfirst, yearfirst, exact)\u001b[0m\n\u001b[0;32m    392\u001b[0m \u001b[1;33m\u001b[0m\u001b[0m\n\u001b[0;32m    393\u001b[0m     \u001b[1;32mif\u001b[0m \u001b[0mformat\u001b[0m \u001b[1;32mis\u001b[0m \u001b[1;32mnot\u001b[0m \u001b[1;32mNone\u001b[0m\u001b[1;33m:\u001b[0m\u001b[1;33m\u001b[0m\u001b[1;33m\u001b[0m\u001b[0m\n\u001b[1;32m--> 394\u001b[1;33m         res = _to_datetime_with_format(\n\u001b[0m\u001b[0;32m    395\u001b[0m             \u001b[0marg\u001b[0m\u001b[1;33m,\u001b[0m \u001b[0morig_arg\u001b[0m\u001b[1;33m,\u001b[0m \u001b[0mname\u001b[0m\u001b[1;33m,\u001b[0m \u001b[0mtz\u001b[0m\u001b[1;33m,\u001b[0m \u001b[0mformat\u001b[0m\u001b[1;33m,\u001b[0m \u001b[0mexact\u001b[0m\u001b[1;33m,\u001b[0m \u001b[0merrors\u001b[0m\u001b[1;33m,\u001b[0m \u001b[0minfer_datetime_format\u001b[0m\u001b[1;33m\u001b[0m\u001b[1;33m\u001b[0m\u001b[0m\n\u001b[0;32m    396\u001b[0m         )\n",
      "\u001b[1;32m~\\anaconda3\\lib\\site-packages\\pandas\\core\\tools\\datetimes.py\u001b[0m in \u001b[0;36m_to_datetime_with_format\u001b[1;34m(arg, orig_arg, name, tz, fmt, exact, errors, infer_datetime_format)\u001b[0m\n\u001b[0;32m    512\u001b[0m             \u001b[1;32mreturn\u001b[0m \u001b[0mDatetimeIndex\u001b[0m\u001b[1;33m.\u001b[0m\u001b[0m_simple_new\u001b[0m\u001b[1;33m(\u001b[0m\u001b[0mdta\u001b[0m\u001b[1;33m,\u001b[0m \u001b[0mname\u001b[0m\u001b[1;33m=\u001b[0m\u001b[0mname\u001b[0m\u001b[1;33m)\u001b[0m\u001b[1;33m\u001b[0m\u001b[1;33m\u001b[0m\u001b[0m\n\u001b[0;32m    513\u001b[0m         \u001b[1;32mexcept\u001b[0m \u001b[1;33m(\u001b[0m\u001b[0mValueError\u001b[0m\u001b[1;33m,\u001b[0m \u001b[0mTypeError\u001b[0m\u001b[1;33m)\u001b[0m\u001b[1;33m:\u001b[0m\u001b[1;33m\u001b[0m\u001b[1;33m\u001b[0m\u001b[0m\n\u001b[1;32m--> 514\u001b[1;33m             \u001b[1;32mraise\u001b[0m \u001b[0merr\u001b[0m\u001b[1;33m\u001b[0m\u001b[1;33m\u001b[0m\u001b[0m\n\u001b[0m\u001b[0;32m    515\u001b[0m \u001b[1;33m\u001b[0m\u001b[0m\n\u001b[0;32m    516\u001b[0m \u001b[1;33m\u001b[0m\u001b[0m\n",
      "\u001b[1;32m~\\anaconda3\\lib\\site-packages\\pandas\\core\\tools\\datetimes.py\u001b[0m in \u001b[0;36m_to_datetime_with_format\u001b[1;34m(arg, orig_arg, name, tz, fmt, exact, errors, infer_datetime_format)\u001b[0m\n\u001b[0;32m    499\u001b[0m \u001b[1;33m\u001b[0m\u001b[0m\n\u001b[0;32m    500\u001b[0m         \u001b[1;31m# fallback\u001b[0m\u001b[1;33m\u001b[0m\u001b[1;33m\u001b[0m\u001b[0m\n\u001b[1;32m--> 501\u001b[1;33m         res = _array_strptime_with_fallback(\n\u001b[0m\u001b[0;32m    502\u001b[0m             \u001b[0marg\u001b[0m\u001b[1;33m,\u001b[0m \u001b[0mname\u001b[0m\u001b[1;33m,\u001b[0m \u001b[0mtz\u001b[0m\u001b[1;33m,\u001b[0m \u001b[0mfmt\u001b[0m\u001b[1;33m,\u001b[0m \u001b[0mexact\u001b[0m\u001b[1;33m,\u001b[0m \u001b[0merrors\u001b[0m\u001b[1;33m,\u001b[0m \u001b[0minfer_datetime_format\u001b[0m\u001b[1;33m\u001b[0m\u001b[1;33m\u001b[0m\u001b[0m\n\u001b[0;32m    503\u001b[0m         )\n",
      "\u001b[1;32m~\\anaconda3\\lib\\site-packages\\pandas\\core\\tools\\datetimes.py\u001b[0m in \u001b[0;36m_array_strptime_with_fallback\u001b[1;34m(arg, name, tz, fmt, exact, errors, infer_datetime_format)\u001b[0m\n\u001b[0;32m    435\u001b[0m \u001b[1;33m\u001b[0m\u001b[0m\n\u001b[0;32m    436\u001b[0m     \u001b[1;32mtry\u001b[0m\u001b[1;33m:\u001b[0m\u001b[1;33m\u001b[0m\u001b[1;33m\u001b[0m\u001b[0m\n\u001b[1;32m--> 437\u001b[1;33m         \u001b[0mresult\u001b[0m\u001b[1;33m,\u001b[0m \u001b[0mtimezones\u001b[0m \u001b[1;33m=\u001b[0m \u001b[0marray_strptime\u001b[0m\u001b[1;33m(\u001b[0m\u001b[0marg\u001b[0m\u001b[1;33m,\u001b[0m \u001b[0mfmt\u001b[0m\u001b[1;33m,\u001b[0m \u001b[0mexact\u001b[0m\u001b[1;33m=\u001b[0m\u001b[0mexact\u001b[0m\u001b[1;33m,\u001b[0m \u001b[0merrors\u001b[0m\u001b[1;33m=\u001b[0m\u001b[0merrors\u001b[0m\u001b[1;33m)\u001b[0m\u001b[1;33m\u001b[0m\u001b[1;33m\u001b[0m\u001b[0m\n\u001b[0m\u001b[0;32m    438\u001b[0m         \u001b[1;32mif\u001b[0m \u001b[1;34m\"%Z\"\u001b[0m \u001b[1;32min\u001b[0m \u001b[0mfmt\u001b[0m \u001b[1;32mor\u001b[0m \u001b[1;34m\"%z\"\u001b[0m \u001b[1;32min\u001b[0m \u001b[0mfmt\u001b[0m\u001b[1;33m:\u001b[0m\u001b[1;33m\u001b[0m\u001b[1;33m\u001b[0m\u001b[0m\n\u001b[0;32m    439\u001b[0m             \u001b[1;32mreturn\u001b[0m \u001b[0m_return_parsed_timezone_results\u001b[0m\u001b[1;33m(\u001b[0m\u001b[0mresult\u001b[0m\u001b[1;33m,\u001b[0m \u001b[0mtimezones\u001b[0m\u001b[1;33m,\u001b[0m \u001b[0mtz\u001b[0m\u001b[1;33m,\u001b[0m \u001b[0mname\u001b[0m\u001b[1;33m)\u001b[0m\u001b[1;33m\u001b[0m\u001b[1;33m\u001b[0m\u001b[0m\n",
      "\u001b[1;32m~\\anaconda3\\lib\\site-packages\\pandas\\_libs\\tslibs\\strptime.pyx\u001b[0m in \u001b[0;36mpandas._libs.tslibs.strptime.array_strptime\u001b[1;34m()\u001b[0m\n",
      "\u001b[1;31mValueError\u001b[0m: unconverted data remains: :00"
     ]
    }
   ],
   "source": [
    "df['start_time'] = pd.to_datetime(df['start_time'], format='%H:%M').dt.time"
   ]
  },
  {
   "cell_type": "code",
   "execution_count": 28,
   "id": "18c41934",
   "metadata": {},
   "outputs": [],
   "source": [
    "day='monday'"
   ]
  },
  {
   "cell_type": "code",
   "execution_count": 59,
   "id": "3a5a4974",
   "metadata": {},
   "outputs": [],
   "source": [
    "    start_time = pd.to_datetime(start, format='%H:%M').strftime('%H:%M:%S')\n",
    "    end_time = pd.to_datetime(end, format='%H:%M').strftime('%H:%M:%S')\n",
    "\n",
    "    filtered_df = df[(df['day'] == day) & ((df['start_time'] == start_time) | (df['end_time'] == end_time))]"
   ]
  },
  {
   "cell_type": "code",
   "execution_count": 60,
   "id": "79e98bed",
   "metadata": {},
   "outputs": [
    {
     "data": {
      "text/plain": [
       "0      monday\n",
       "1      monday\n",
       "2      monday\n",
       "3      monday\n",
       "4      monday\n",
       "        ...  \n",
       "298    friday\n",
       "299    friday\n",
       "300    friday\n",
       "301    friday\n",
       "302    friday\n",
       "Name: day, Length: 303, dtype: object"
      ]
     },
     "execution_count": 60,
     "metadata": {},
     "output_type": "execute_result"
    }
   ],
   "source": [
    "df['day']"
   ]
  },
  {
   "cell_type": "code",
   "execution_count": 61,
   "id": "564b2762",
   "metadata": {},
   "outputs": [
    {
     "data": {
      "text/plain": [
       "13"
      ]
     },
     "execution_count": 61,
     "metadata": {},
     "output_type": "execute_result"
    }
   ],
   "source": [
    "len(filtered_df)"
   ]
  },
  {
   "cell_type": "code",
   "execution_count": 62,
   "id": "b3d9f937",
   "metadata": {},
   "outputs": [
    {
     "data": {
      "text/plain": [
       "'09:00:00'"
      ]
     },
     "execution_count": 62,
     "metadata": {},
     "output_type": "execute_result"
    }
   ],
   "source": [
    "start_time"
   ]
  },
  {
   "cell_type": "code",
   "execution_count": 63,
   "id": "4bb37a90",
   "metadata": {},
   "outputs": [
    {
     "data": {
      "text/plain": [
       "'09:00:00'"
      ]
     },
     "execution_count": 63,
     "metadata": {},
     "output_type": "execute_result"
    }
   ],
   "source": [
    "pd.to_datetime(start, format='%H:%M').strftime('%H:%M:%S')"
   ]
  },
  {
   "cell_type": "code",
   "execution_count": 4,
   "id": "8f052c2c",
   "metadata": {},
   "outputs": [
    {
     "name": "stdout",
     "output_type": "stream",
     "text": [
      "<class 'pandas.core.frame.DataFrame'>\n",
      "RangeIndex: 303 entries, 0 to 302\n",
      "Data columns (total 15 columns):\n",
      " #   Column          Non-Null Count  Dtype  \n",
      "---  ------          --------------  -----  \n",
      " 0   serial_num      303 non-null    float64\n",
      " 1   subject_code    303 non-null    object \n",
      " 2   course_type     303 non-null    object \n",
      " 3   lab_or_lecture  303 non-null    object \n",
      " 4   department      303 non-null    object \n",
      " 5   branch          303 non-null    object \n",
      " 6   batch           303 non-null    object \n",
      " 7   faculty_code    303 non-null    object \n",
      " 8   floor           303 non-null    object \n",
      " 9   room_num        303 non-null    object \n",
      " 10  day             303 non-null    object \n",
      " 11  start_time      303 non-null    object \n",
      " 12  end_time        303 non-null    object \n",
      " 13  year            303 non-null    object \n",
      " 14  duration        303 non-null    int64  \n",
      "dtypes: float64(1), int64(1), object(13)\n",
      "memory usage: 35.6+ KB\n"
     ]
    }
   ],
   "source": [
    "df.info()"
   ]
  },
  {
   "cell_type": "code",
   "execution_count": 5,
   "id": "0ea5e863",
   "metadata": {},
   "outputs": [],
   "source": [
    "selected_day='monday'\n",
    "selected_department='CSE'\n",
    "selected_type='lecture'"
   ]
  },
  {
   "cell_type": "code",
   "execution_count": 7,
   "id": "242cccbe",
   "metadata": {},
   "outputs": [
    {
     "data": {
      "text/html": [
       "<div>\n",
       "<style scoped>\n",
       "    .dataframe tbody tr th:only-of-type {\n",
       "        vertical-align: middle;\n",
       "    }\n",
       "\n",
       "    .dataframe tbody tr th {\n",
       "        vertical-align: top;\n",
       "    }\n",
       "\n",
       "    .dataframe thead th {\n",
       "        text-align: right;\n",
       "    }\n",
       "</style>\n",
       "<table border=\"1\" class=\"dataframe\">\n",
       "  <thead>\n",
       "    <tr style=\"text-align: right;\">\n",
       "      <th></th>\n",
       "      <th>serial_num</th>\n",
       "      <th>subject_code</th>\n",
       "      <th>course_type</th>\n",
       "      <th>lab_or_lecture</th>\n",
       "      <th>department</th>\n",
       "      <th>branch</th>\n",
       "      <th>batch</th>\n",
       "      <th>faculty_code</th>\n",
       "      <th>floor</th>\n",
       "      <th>room_num</th>\n",
       "      <th>day</th>\n",
       "      <th>start_time</th>\n",
       "      <th>end_time</th>\n",
       "      <th>year</th>\n",
       "      <th>duration</th>\n",
       "    </tr>\n",
       "  </thead>\n",
       "  <tbody>\n",
       "    <tr>\n",
       "      <th>4</th>\n",
       "      <td>5.0</td>\n",
       "      <td>DC</td>\n",
       "      <td>PC</td>\n",
       "      <td>lecture</td>\n",
       "      <td>CSE</td>\n",
       "      <td>DS</td>\n",
       "      <td>all</td>\n",
       "      <td>SBG</td>\n",
       "      <td>4</td>\n",
       "      <td>407</td>\n",
       "      <td>monday</td>\n",
       "      <td>11:15:00</td>\n",
       "      <td>12:15:00</td>\n",
       "      <td>TE</td>\n",
       "      <td>1</td>\n",
       "    </tr>\n",
       "    <tr>\n",
       "      <th>5</th>\n",
       "      <td>6.0</td>\n",
       "      <td>ML</td>\n",
       "      <td>PC</td>\n",
       "      <td>lecture</td>\n",
       "      <td>CSE</td>\n",
       "      <td>DS</td>\n",
       "      <td>all</td>\n",
       "      <td>SJK</td>\n",
       "      <td>4</td>\n",
       "      <td>407</td>\n",
       "      <td>monday</td>\n",
       "      <td>12:15:00</td>\n",
       "      <td>13:15:00</td>\n",
       "      <td>TE</td>\n",
       "      <td>1</td>\n",
       "    </tr>\n",
       "    <tr>\n",
       "      <th>89</th>\n",
       "      <td>90.0</td>\n",
       "      <td>ML</td>\n",
       "      <td>PC</td>\n",
       "      <td>lecture</td>\n",
       "      <td>CSE</td>\n",
       "      <td>AIML</td>\n",
       "      <td>all</td>\n",
       "      <td>SJK</td>\n",
       "      <td>4</td>\n",
       "      <td>409</td>\n",
       "      <td>monday</td>\n",
       "      <td>11:15:00</td>\n",
       "      <td>12:15:00</td>\n",
       "      <td>TE</td>\n",
       "      <td>1</td>\n",
       "    </tr>\n",
       "    <tr>\n",
       "      <th>90</th>\n",
       "      <td>91.0</td>\n",
       "      <td>DC</td>\n",
       "      <td>PC</td>\n",
       "      <td>lecture</td>\n",
       "      <td>CSE</td>\n",
       "      <td>AIML</td>\n",
       "      <td>all</td>\n",
       "      <td>VK</td>\n",
       "      <td>4</td>\n",
       "      <td>409</td>\n",
       "      <td>monday</td>\n",
       "      <td>12:15:00</td>\n",
       "      <td>13:15:00</td>\n",
       "      <td>TE</td>\n",
       "      <td>1</td>\n",
       "    </tr>\n",
       "    <tr>\n",
       "      <th>221</th>\n",
       "      <td>222.0</td>\n",
       "      <td>CCN</td>\n",
       "      <td>PC</td>\n",
       "      <td>lecture</td>\n",
       "      <td>CSE</td>\n",
       "      <td>AIML</td>\n",
       "      <td>N</td>\n",
       "      <td>DDA</td>\n",
       "      <td>4</td>\n",
       "      <td>405</td>\n",
       "      <td>monday</td>\n",
       "      <td>11:15:00</td>\n",
       "      <td>12:15:00</td>\n",
       "      <td>SE</td>\n",
       "      <td>1</td>\n",
       "    </tr>\n",
       "    <tr>\n",
       "      <th>222</th>\n",
       "      <td>223.0</td>\n",
       "      <td>CCN</td>\n",
       "      <td>PC</td>\n",
       "      <td>lecture</td>\n",
       "      <td>CSE</td>\n",
       "      <td>AIML</td>\n",
       "      <td>N</td>\n",
       "      <td>DDA</td>\n",
       "      <td>4</td>\n",
       "      <td>405</td>\n",
       "      <td>monday</td>\n",
       "      <td>12:15:00</td>\n",
       "      <td>13:15:00</td>\n",
       "      <td>SE</td>\n",
       "      <td>1</td>\n",
       "    </tr>\n",
       "    <tr>\n",
       "      <th>260</th>\n",
       "      <td>261.0</td>\n",
       "      <td>CCN</td>\n",
       "      <td>PC</td>\n",
       "      <td>lecture</td>\n",
       "      <td>CSE</td>\n",
       "      <td>AIML</td>\n",
       "      <td>N</td>\n",
       "      <td>AVS</td>\n",
       "      <td>4</td>\n",
       "      <td>405</td>\n",
       "      <td>monday</td>\n",
       "      <td>09:00:00</td>\n",
       "      <td>10:00:00</td>\n",
       "      <td>SE</td>\n",
       "      <td>1</td>\n",
       "    </tr>\n",
       "    <tr>\n",
       "      <th>261</th>\n",
       "      <td>262.0</td>\n",
       "      <td>CCN</td>\n",
       "      <td>PC</td>\n",
       "      <td>lecture</td>\n",
       "      <td>CSE</td>\n",
       "      <td>AIML</td>\n",
       "      <td>N</td>\n",
       "      <td>AVS</td>\n",
       "      <td>4</td>\n",
       "      <td>405</td>\n",
       "      <td>monday</td>\n",
       "      <td>10:00:00</td>\n",
       "      <td>11:00:00</td>\n",
       "      <td>SE</td>\n",
       "      <td>1</td>\n",
       "    </tr>\n",
       "  </tbody>\n",
       "</table>\n",
       "</div>"
      ],
      "text/plain": [
       "     serial_num subject_code course_type lab_or_lecture department branch  \\\n",
       "4           5.0           DC          PC        lecture        CSE     DS   \n",
       "5           6.0           ML          PC        lecture        CSE     DS   \n",
       "89         90.0           ML          PC        lecture        CSE   AIML   \n",
       "90         91.0           DC          PC        lecture        CSE   AIML   \n",
       "221       222.0          CCN          PC        lecture        CSE   AIML   \n",
       "222       223.0          CCN          PC        lecture        CSE   AIML   \n",
       "260       261.0          CCN          PC        lecture        CSE   AIML   \n",
       "261       262.0          CCN          PC        lecture        CSE   AIML   \n",
       "\n",
       "    batch faculty_code floor room_num     day start_time  end_time year  \\\n",
       "4     all          SBG     4      407  monday   11:15:00  12:15:00   TE   \n",
       "5     all          SJK     4      407  monday   12:15:00  13:15:00   TE   \n",
       "89    all          SJK     4      409  monday   11:15:00  12:15:00   TE   \n",
       "90    all           VK     4      409  monday   12:15:00  13:15:00   TE   \n",
       "221     N          DDA     4      405  monday   11:15:00  12:15:00   SE   \n",
       "222     N          DDA     4      405  monday   12:15:00  13:15:00   SE   \n",
       "260     N          AVS     4      405  monday   09:00:00  10:00:00   SE   \n",
       "261     N          AVS     4      405  monday   10:00:00  11:00:00   SE   \n",
       "\n",
       "     duration  \n",
       "4           1  \n",
       "5           1  \n",
       "89          1  \n",
       "90          1  \n",
       "221         1  \n",
       "222         1  \n",
       "260         1  \n",
       "261         1  "
      ]
     },
     "execution_count": 7,
     "metadata": {},
     "output_type": "execute_result"
    }
   ],
   "source": [
    "filtered_df = df[(df['day'] == selected_day) & (df['department'] == selected_department) & (df['lab_or_lecture'] == selected_type)]\n",
    "filtered_df"
   ]
  },
  {
   "cell_type": "code",
   "execution_count": 9,
   "id": "8db6e87a",
   "metadata": {},
   "outputs": [],
   "source": [
    "df['lab_or_lecture'].replace({'lab ':'lab'},inplace=True)"
   ]
  },
  {
   "cell_type": "code",
   "execution_count": 10,
   "id": "6c604e7e",
   "metadata": {},
   "outputs": [
    {
     "data": {
      "text/plain": [
       "array(['lecture', 'lab'], dtype=object)"
      ]
     },
     "execution_count": 10,
     "metadata": {},
     "output_type": "execute_result"
    }
   ],
   "source": [
    "df['lab_or_lecture'].unique()"
   ]
  },
  {
   "cell_type": "code",
   "execution_count": 12,
   "id": "c8bc33b8",
   "metadata": {},
   "outputs": [],
   "source": [
    "df.to_csv('bap_ise_data.csv', index=False)"
   ]
  },
  {
   "cell_type": "code",
   "execution_count": 13,
   "id": "50f7b6f0",
   "metadata": {},
   "outputs": [
    {
     "data": {
      "text/plain": [
       "[1, 2, 3, 4, 5]"
      ]
     },
     "execution_count": 13,
     "metadata": {},
     "output_type": "execute_result"
    }
   ],
   "source": [
    "[1,2,3]+[4,5]"
   ]
  },
  {
   "cell_type": "code",
   "execution_count": 18,
   "id": "5f4476dd",
   "metadata": {},
   "outputs": [],
   "source": [
    "filtered_df=df[df['faculty_code'] == 'RK']"
   ]
  },
  {
   "cell_type": "code",
   "execution_count": 19,
   "id": "181deefe",
   "metadata": {},
   "outputs": [],
   "source": [
    "import plotly.graph_objs as go"
   ]
  },
  {
   "cell_type": "code",
   "execution_count": 21,
   "id": "01542b7c",
   "metadata": {},
   "outputs": [
    {
     "data": {
      "application/vnd.plotly.v1+json": {
       "config": {
        "plotlyServerURL": "https://plot.ly"
       },
       "data": [
        {
         "hoverinfo": "label+percent",
         "labels": [
          "lecture",
          "lab",
          "lab",
          "lecture",
          "lab"
         ],
         "textinfo": "value",
         "type": "pie",
         "values": [
          2,
          2,
          2,
          2,
          2
         ]
        }
       ],
       "layout": {
        "template": {
         "data": {
          "bar": [
           {
            "error_x": {
             "color": "#2a3f5f"
            },
            "error_y": {
             "color": "#2a3f5f"
            },
            "marker": {
             "line": {
              "color": "#E5ECF6",
              "width": 0.5
             },
             "pattern": {
              "fillmode": "overlay",
              "size": 10,
              "solidity": 0.2
             }
            },
            "type": "bar"
           }
          ],
          "barpolar": [
           {
            "marker": {
             "line": {
              "color": "#E5ECF6",
              "width": 0.5
             },
             "pattern": {
              "fillmode": "overlay",
              "size": 10,
              "solidity": 0.2
             }
            },
            "type": "barpolar"
           }
          ],
          "carpet": [
           {
            "aaxis": {
             "endlinecolor": "#2a3f5f",
             "gridcolor": "white",
             "linecolor": "white",
             "minorgridcolor": "white",
             "startlinecolor": "#2a3f5f"
            },
            "baxis": {
             "endlinecolor": "#2a3f5f",
             "gridcolor": "white",
             "linecolor": "white",
             "minorgridcolor": "white",
             "startlinecolor": "#2a3f5f"
            },
            "type": "carpet"
           }
          ],
          "choropleth": [
           {
            "colorbar": {
             "outlinewidth": 0,
             "ticks": ""
            },
            "type": "choropleth"
           }
          ],
          "contour": [
           {
            "colorbar": {
             "outlinewidth": 0,
             "ticks": ""
            },
            "colorscale": [
             [
              0,
              "#0d0887"
             ],
             [
              0.1111111111111111,
              "#46039f"
             ],
             [
              0.2222222222222222,
              "#7201a8"
             ],
             [
              0.3333333333333333,
              "#9c179e"
             ],
             [
              0.4444444444444444,
              "#bd3786"
             ],
             [
              0.5555555555555556,
              "#d8576b"
             ],
             [
              0.6666666666666666,
              "#ed7953"
             ],
             [
              0.7777777777777778,
              "#fb9f3a"
             ],
             [
              0.8888888888888888,
              "#fdca26"
             ],
             [
              1,
              "#f0f921"
             ]
            ],
            "type": "contour"
           }
          ],
          "contourcarpet": [
           {
            "colorbar": {
             "outlinewidth": 0,
             "ticks": ""
            },
            "type": "contourcarpet"
           }
          ],
          "heatmap": [
           {
            "colorbar": {
             "outlinewidth": 0,
             "ticks": ""
            },
            "colorscale": [
             [
              0,
              "#0d0887"
             ],
             [
              0.1111111111111111,
              "#46039f"
             ],
             [
              0.2222222222222222,
              "#7201a8"
             ],
             [
              0.3333333333333333,
              "#9c179e"
             ],
             [
              0.4444444444444444,
              "#bd3786"
             ],
             [
              0.5555555555555556,
              "#d8576b"
             ],
             [
              0.6666666666666666,
              "#ed7953"
             ],
             [
              0.7777777777777778,
              "#fb9f3a"
             ],
             [
              0.8888888888888888,
              "#fdca26"
             ],
             [
              1,
              "#f0f921"
             ]
            ],
            "type": "heatmap"
           }
          ],
          "heatmapgl": [
           {
            "colorbar": {
             "outlinewidth": 0,
             "ticks": ""
            },
            "colorscale": [
             [
              0,
              "#0d0887"
             ],
             [
              0.1111111111111111,
              "#46039f"
             ],
             [
              0.2222222222222222,
              "#7201a8"
             ],
             [
              0.3333333333333333,
              "#9c179e"
             ],
             [
              0.4444444444444444,
              "#bd3786"
             ],
             [
              0.5555555555555556,
              "#d8576b"
             ],
             [
              0.6666666666666666,
              "#ed7953"
             ],
             [
              0.7777777777777778,
              "#fb9f3a"
             ],
             [
              0.8888888888888888,
              "#fdca26"
             ],
             [
              1,
              "#f0f921"
             ]
            ],
            "type": "heatmapgl"
           }
          ],
          "histogram": [
           {
            "marker": {
             "pattern": {
              "fillmode": "overlay",
              "size": 10,
              "solidity": 0.2
             }
            },
            "type": "histogram"
           }
          ],
          "histogram2d": [
           {
            "colorbar": {
             "outlinewidth": 0,
             "ticks": ""
            },
            "colorscale": [
             [
              0,
              "#0d0887"
             ],
             [
              0.1111111111111111,
              "#46039f"
             ],
             [
              0.2222222222222222,
              "#7201a8"
             ],
             [
              0.3333333333333333,
              "#9c179e"
             ],
             [
              0.4444444444444444,
              "#bd3786"
             ],
             [
              0.5555555555555556,
              "#d8576b"
             ],
             [
              0.6666666666666666,
              "#ed7953"
             ],
             [
              0.7777777777777778,
              "#fb9f3a"
             ],
             [
              0.8888888888888888,
              "#fdca26"
             ],
             [
              1,
              "#f0f921"
             ]
            ],
            "type": "histogram2d"
           }
          ],
          "histogram2dcontour": [
           {
            "colorbar": {
             "outlinewidth": 0,
             "ticks": ""
            },
            "colorscale": [
             [
              0,
              "#0d0887"
             ],
             [
              0.1111111111111111,
              "#46039f"
             ],
             [
              0.2222222222222222,
              "#7201a8"
             ],
             [
              0.3333333333333333,
              "#9c179e"
             ],
             [
              0.4444444444444444,
              "#bd3786"
             ],
             [
              0.5555555555555556,
              "#d8576b"
             ],
             [
              0.6666666666666666,
              "#ed7953"
             ],
             [
              0.7777777777777778,
              "#fb9f3a"
             ],
             [
              0.8888888888888888,
              "#fdca26"
             ],
             [
              1,
              "#f0f921"
             ]
            ],
            "type": "histogram2dcontour"
           }
          ],
          "mesh3d": [
           {
            "colorbar": {
             "outlinewidth": 0,
             "ticks": ""
            },
            "type": "mesh3d"
           }
          ],
          "parcoords": [
           {
            "line": {
             "colorbar": {
              "outlinewidth": 0,
              "ticks": ""
             }
            },
            "type": "parcoords"
           }
          ],
          "pie": [
           {
            "automargin": true,
            "type": "pie"
           }
          ],
          "scatter": [
           {
            "fillpattern": {
             "fillmode": "overlay",
             "size": 10,
             "solidity": 0.2
            },
            "type": "scatter"
           }
          ],
          "scatter3d": [
           {
            "line": {
             "colorbar": {
              "outlinewidth": 0,
              "ticks": ""
             }
            },
            "marker": {
             "colorbar": {
              "outlinewidth": 0,
              "ticks": ""
             }
            },
            "type": "scatter3d"
           }
          ],
          "scattercarpet": [
           {
            "marker": {
             "colorbar": {
              "outlinewidth": 0,
              "ticks": ""
             }
            },
            "type": "scattercarpet"
           }
          ],
          "scattergeo": [
           {
            "marker": {
             "colorbar": {
              "outlinewidth": 0,
              "ticks": ""
             }
            },
            "type": "scattergeo"
           }
          ],
          "scattergl": [
           {
            "marker": {
             "colorbar": {
              "outlinewidth": 0,
              "ticks": ""
             }
            },
            "type": "scattergl"
           }
          ],
          "scattermapbox": [
           {
            "marker": {
             "colorbar": {
              "outlinewidth": 0,
              "ticks": ""
             }
            },
            "type": "scattermapbox"
           }
          ],
          "scatterpolar": [
           {
            "marker": {
             "colorbar": {
              "outlinewidth": 0,
              "ticks": ""
             }
            },
            "type": "scatterpolar"
           }
          ],
          "scatterpolargl": [
           {
            "marker": {
             "colorbar": {
              "outlinewidth": 0,
              "ticks": ""
             }
            },
            "type": "scatterpolargl"
           }
          ],
          "scatterternary": [
           {
            "marker": {
             "colorbar": {
              "outlinewidth": 0,
              "ticks": ""
             }
            },
            "type": "scatterternary"
           }
          ],
          "surface": [
           {
            "colorbar": {
             "outlinewidth": 0,
             "ticks": ""
            },
            "colorscale": [
             [
              0,
              "#0d0887"
             ],
             [
              0.1111111111111111,
              "#46039f"
             ],
             [
              0.2222222222222222,
              "#7201a8"
             ],
             [
              0.3333333333333333,
              "#9c179e"
             ],
             [
              0.4444444444444444,
              "#bd3786"
             ],
             [
              0.5555555555555556,
              "#d8576b"
             ],
             [
              0.6666666666666666,
              "#ed7953"
             ],
             [
              0.7777777777777778,
              "#fb9f3a"
             ],
             [
              0.8888888888888888,
              "#fdca26"
             ],
             [
              1,
              "#f0f921"
             ]
            ],
            "type": "surface"
           }
          ],
          "table": [
           {
            "cells": {
             "fill": {
              "color": "#EBF0F8"
             },
             "line": {
              "color": "white"
             }
            },
            "header": {
             "fill": {
              "color": "#C8D4E3"
             },
             "line": {
              "color": "white"
             }
            },
            "type": "table"
           }
          ]
         },
         "layout": {
          "annotationdefaults": {
           "arrowcolor": "#2a3f5f",
           "arrowhead": 0,
           "arrowwidth": 1
          },
          "autotypenumbers": "strict",
          "coloraxis": {
           "colorbar": {
            "outlinewidth": 0,
            "ticks": ""
           }
          },
          "colorscale": {
           "diverging": [
            [
             0,
             "#8e0152"
            ],
            [
             0.1,
             "#c51b7d"
            ],
            [
             0.2,
             "#de77ae"
            ],
            [
             0.3,
             "#f1b6da"
            ],
            [
             0.4,
             "#fde0ef"
            ],
            [
             0.5,
             "#f7f7f7"
            ],
            [
             0.6,
             "#e6f5d0"
            ],
            [
             0.7,
             "#b8e186"
            ],
            [
             0.8,
             "#7fbc41"
            ],
            [
             0.9,
             "#4d9221"
            ],
            [
             1,
             "#276419"
            ]
           ],
           "sequential": [
            [
             0,
             "#0d0887"
            ],
            [
             0.1111111111111111,
             "#46039f"
            ],
            [
             0.2222222222222222,
             "#7201a8"
            ],
            [
             0.3333333333333333,
             "#9c179e"
            ],
            [
             0.4444444444444444,
             "#bd3786"
            ],
            [
             0.5555555555555556,
             "#d8576b"
            ],
            [
             0.6666666666666666,
             "#ed7953"
            ],
            [
             0.7777777777777778,
             "#fb9f3a"
            ],
            [
             0.8888888888888888,
             "#fdca26"
            ],
            [
             1,
             "#f0f921"
            ]
           ],
           "sequentialminus": [
            [
             0,
             "#0d0887"
            ],
            [
             0.1111111111111111,
             "#46039f"
            ],
            [
             0.2222222222222222,
             "#7201a8"
            ],
            [
             0.3333333333333333,
             "#9c179e"
            ],
            [
             0.4444444444444444,
             "#bd3786"
            ],
            [
             0.5555555555555556,
             "#d8576b"
            ],
            [
             0.6666666666666666,
             "#ed7953"
            ],
            [
             0.7777777777777778,
             "#fb9f3a"
            ],
            [
             0.8888888888888888,
             "#fdca26"
            ],
            [
             1,
             "#f0f921"
            ]
           ]
          },
          "colorway": [
           "#636efa",
           "#EF553B",
           "#00cc96",
           "#ab63fa",
           "#FFA15A",
           "#19d3f3",
           "#FF6692",
           "#B6E880",
           "#FF97FF",
           "#FECB52"
          ],
          "font": {
           "color": "#2a3f5f"
          },
          "geo": {
           "bgcolor": "white",
           "lakecolor": "white",
           "landcolor": "#E5ECF6",
           "showlakes": true,
           "showland": true,
           "subunitcolor": "white"
          },
          "hoverlabel": {
           "align": "left"
          },
          "hovermode": "closest",
          "mapbox": {
           "style": "light"
          },
          "paper_bgcolor": "white",
          "plot_bgcolor": "#E5ECF6",
          "polar": {
           "angularaxis": {
            "gridcolor": "white",
            "linecolor": "white",
            "ticks": ""
           },
           "bgcolor": "#E5ECF6",
           "radialaxis": {
            "gridcolor": "white",
            "linecolor": "white",
            "ticks": ""
           }
          },
          "scene": {
           "xaxis": {
            "backgroundcolor": "#E5ECF6",
            "gridcolor": "white",
            "gridwidth": 2,
            "linecolor": "white",
            "showbackground": true,
            "ticks": "",
            "zerolinecolor": "white"
           },
           "yaxis": {
            "backgroundcolor": "#E5ECF6",
            "gridcolor": "white",
            "gridwidth": 2,
            "linecolor": "white",
            "showbackground": true,
            "ticks": "",
            "zerolinecolor": "white"
           },
           "zaxis": {
            "backgroundcolor": "#E5ECF6",
            "gridcolor": "white",
            "gridwidth": 2,
            "linecolor": "white",
            "showbackground": true,
            "ticks": "",
            "zerolinecolor": "white"
           }
          },
          "shapedefaults": {
           "line": {
            "color": "#2a3f5f"
           }
          },
          "ternary": {
           "aaxis": {
            "gridcolor": "white",
            "linecolor": "white",
            "ticks": ""
           },
           "baxis": {
            "gridcolor": "white",
            "linecolor": "white",
            "ticks": ""
           },
           "bgcolor": "#E5ECF6",
           "caxis": {
            "gridcolor": "white",
            "linecolor": "white",
            "ticks": ""
           }
          },
          "title": {
           "x": 0.05
          },
          "xaxis": {
           "automargin": true,
           "gridcolor": "white",
           "linecolor": "white",
           "ticks": "",
           "title": {
            "standoff": 15
           },
           "zerolinecolor": "white",
           "zerolinewidth": 2
          },
          "yaxis": {
           "automargin": true,
           "gridcolor": "white",
           "linecolor": "white",
           "ticks": "",
           "title": {
            "standoff": 15
           },
           "zerolinecolor": "white",
           "zerolinewidth": 2
          }
         }
        }
       }
      },
      "text/html": [
       "<div>                            <div id=\"dbdc98c5-7a53-47e8-b868-38d86f04b470\" class=\"plotly-graph-div\" style=\"height:525px; width:100%;\"></div>            <script type=\"text/javascript\">                require([\"plotly\"], function(Plotly) {                    window.PLOTLYENV=window.PLOTLYENV || {};                                    if (document.getElementById(\"dbdc98c5-7a53-47e8-b868-38d86f04b470\")) {                    Plotly.newPlot(                        \"dbdc98c5-7a53-47e8-b868-38d86f04b470\",                        [{\"hoverinfo\":\"label+percent\",\"labels\":[\"lecture\",\"lab\",\"lab\",\"lecture\",\"lab\"],\"textinfo\":\"value\",\"values\":[2,2,2,2,2],\"type\":\"pie\"}],                        {\"template\":{\"data\":{\"histogram2dcontour\":[{\"type\":\"histogram2dcontour\",\"colorbar\":{\"outlinewidth\":0,\"ticks\":\"\"},\"colorscale\":[[0.0,\"#0d0887\"],[0.1111111111111111,\"#46039f\"],[0.2222222222222222,\"#7201a8\"],[0.3333333333333333,\"#9c179e\"],[0.4444444444444444,\"#bd3786\"],[0.5555555555555556,\"#d8576b\"],[0.6666666666666666,\"#ed7953\"],[0.7777777777777778,\"#fb9f3a\"],[0.8888888888888888,\"#fdca26\"],[1.0,\"#f0f921\"]]}],\"choropleth\":[{\"type\":\"choropleth\",\"colorbar\":{\"outlinewidth\":0,\"ticks\":\"\"}}],\"histogram2d\":[{\"type\":\"histogram2d\",\"colorbar\":{\"outlinewidth\":0,\"ticks\":\"\"},\"colorscale\":[[0.0,\"#0d0887\"],[0.1111111111111111,\"#46039f\"],[0.2222222222222222,\"#7201a8\"],[0.3333333333333333,\"#9c179e\"],[0.4444444444444444,\"#bd3786\"],[0.5555555555555556,\"#d8576b\"],[0.6666666666666666,\"#ed7953\"],[0.7777777777777778,\"#fb9f3a\"],[0.8888888888888888,\"#fdca26\"],[1.0,\"#f0f921\"]]}],\"heatmap\":[{\"type\":\"heatmap\",\"colorbar\":{\"outlinewidth\":0,\"ticks\":\"\"},\"colorscale\":[[0.0,\"#0d0887\"],[0.1111111111111111,\"#46039f\"],[0.2222222222222222,\"#7201a8\"],[0.3333333333333333,\"#9c179e\"],[0.4444444444444444,\"#bd3786\"],[0.5555555555555556,\"#d8576b\"],[0.6666666666666666,\"#ed7953\"],[0.7777777777777778,\"#fb9f3a\"],[0.8888888888888888,\"#fdca26\"],[1.0,\"#f0f921\"]]}],\"heatmapgl\":[{\"type\":\"heatmapgl\",\"colorbar\":{\"outlinewidth\":0,\"ticks\":\"\"},\"colorscale\":[[0.0,\"#0d0887\"],[0.1111111111111111,\"#46039f\"],[0.2222222222222222,\"#7201a8\"],[0.3333333333333333,\"#9c179e\"],[0.4444444444444444,\"#bd3786\"],[0.5555555555555556,\"#d8576b\"],[0.6666666666666666,\"#ed7953\"],[0.7777777777777778,\"#fb9f3a\"],[0.8888888888888888,\"#fdca26\"],[1.0,\"#f0f921\"]]}],\"contourcarpet\":[{\"type\":\"contourcarpet\",\"colorbar\":{\"outlinewidth\":0,\"ticks\":\"\"}}],\"contour\":[{\"type\":\"contour\",\"colorbar\":{\"outlinewidth\":0,\"ticks\":\"\"},\"colorscale\":[[0.0,\"#0d0887\"],[0.1111111111111111,\"#46039f\"],[0.2222222222222222,\"#7201a8\"],[0.3333333333333333,\"#9c179e\"],[0.4444444444444444,\"#bd3786\"],[0.5555555555555556,\"#d8576b\"],[0.6666666666666666,\"#ed7953\"],[0.7777777777777778,\"#fb9f3a\"],[0.8888888888888888,\"#fdca26\"],[1.0,\"#f0f921\"]]}],\"surface\":[{\"type\":\"surface\",\"colorbar\":{\"outlinewidth\":0,\"ticks\":\"\"},\"colorscale\":[[0.0,\"#0d0887\"],[0.1111111111111111,\"#46039f\"],[0.2222222222222222,\"#7201a8\"],[0.3333333333333333,\"#9c179e\"],[0.4444444444444444,\"#bd3786\"],[0.5555555555555556,\"#d8576b\"],[0.6666666666666666,\"#ed7953\"],[0.7777777777777778,\"#fb9f3a\"],[0.8888888888888888,\"#fdca26\"],[1.0,\"#f0f921\"]]}],\"mesh3d\":[{\"type\":\"mesh3d\",\"colorbar\":{\"outlinewidth\":0,\"ticks\":\"\"}}],\"scatter\":[{\"fillpattern\":{\"fillmode\":\"overlay\",\"size\":10,\"solidity\":0.2},\"type\":\"scatter\"}],\"parcoords\":[{\"type\":\"parcoords\",\"line\":{\"colorbar\":{\"outlinewidth\":0,\"ticks\":\"\"}}}],\"scatterpolargl\":[{\"type\":\"scatterpolargl\",\"marker\":{\"colorbar\":{\"outlinewidth\":0,\"ticks\":\"\"}}}],\"bar\":[{\"error_x\":{\"color\":\"#2a3f5f\"},\"error_y\":{\"color\":\"#2a3f5f\"},\"marker\":{\"line\":{\"color\":\"#E5ECF6\",\"width\":0.5},\"pattern\":{\"fillmode\":\"overlay\",\"size\":10,\"solidity\":0.2}},\"type\":\"bar\"}],\"scattergeo\":[{\"type\":\"scattergeo\",\"marker\":{\"colorbar\":{\"outlinewidth\":0,\"ticks\":\"\"}}}],\"scatterpolar\":[{\"type\":\"scatterpolar\",\"marker\":{\"colorbar\":{\"outlinewidth\":0,\"ticks\":\"\"}}}],\"histogram\":[{\"marker\":{\"pattern\":{\"fillmode\":\"overlay\",\"size\":10,\"solidity\":0.2}},\"type\":\"histogram\"}],\"scattergl\":[{\"type\":\"scattergl\",\"marker\":{\"colorbar\":{\"outlinewidth\":0,\"ticks\":\"\"}}}],\"scatter3d\":[{\"type\":\"scatter3d\",\"line\":{\"colorbar\":{\"outlinewidth\":0,\"ticks\":\"\"}},\"marker\":{\"colorbar\":{\"outlinewidth\":0,\"ticks\":\"\"}}}],\"scattermapbox\":[{\"type\":\"scattermapbox\",\"marker\":{\"colorbar\":{\"outlinewidth\":0,\"ticks\":\"\"}}}],\"scatterternary\":[{\"type\":\"scatterternary\",\"marker\":{\"colorbar\":{\"outlinewidth\":0,\"ticks\":\"\"}}}],\"scattercarpet\":[{\"type\":\"scattercarpet\",\"marker\":{\"colorbar\":{\"outlinewidth\":0,\"ticks\":\"\"}}}],\"carpet\":[{\"aaxis\":{\"endlinecolor\":\"#2a3f5f\",\"gridcolor\":\"white\",\"linecolor\":\"white\",\"minorgridcolor\":\"white\",\"startlinecolor\":\"#2a3f5f\"},\"baxis\":{\"endlinecolor\":\"#2a3f5f\",\"gridcolor\":\"white\",\"linecolor\":\"white\",\"minorgridcolor\":\"white\",\"startlinecolor\":\"#2a3f5f\"},\"type\":\"carpet\"}],\"table\":[{\"cells\":{\"fill\":{\"color\":\"#EBF0F8\"},\"line\":{\"color\":\"white\"}},\"header\":{\"fill\":{\"color\":\"#C8D4E3\"},\"line\":{\"color\":\"white\"}},\"type\":\"table\"}],\"barpolar\":[{\"marker\":{\"line\":{\"color\":\"#E5ECF6\",\"width\":0.5},\"pattern\":{\"fillmode\":\"overlay\",\"size\":10,\"solidity\":0.2}},\"type\":\"barpolar\"}],\"pie\":[{\"automargin\":true,\"type\":\"pie\"}]},\"layout\":{\"autotypenumbers\":\"strict\",\"colorway\":[\"#636efa\",\"#EF553B\",\"#00cc96\",\"#ab63fa\",\"#FFA15A\",\"#19d3f3\",\"#FF6692\",\"#B6E880\",\"#FF97FF\",\"#FECB52\"],\"font\":{\"color\":\"#2a3f5f\"},\"hovermode\":\"closest\",\"hoverlabel\":{\"align\":\"left\"},\"paper_bgcolor\":\"white\",\"plot_bgcolor\":\"#E5ECF6\",\"polar\":{\"bgcolor\":\"#E5ECF6\",\"angularaxis\":{\"gridcolor\":\"white\",\"linecolor\":\"white\",\"ticks\":\"\"},\"radialaxis\":{\"gridcolor\":\"white\",\"linecolor\":\"white\",\"ticks\":\"\"}},\"ternary\":{\"bgcolor\":\"#E5ECF6\",\"aaxis\":{\"gridcolor\":\"white\",\"linecolor\":\"white\",\"ticks\":\"\"},\"baxis\":{\"gridcolor\":\"white\",\"linecolor\":\"white\",\"ticks\":\"\"},\"caxis\":{\"gridcolor\":\"white\",\"linecolor\":\"white\",\"ticks\":\"\"}},\"coloraxis\":{\"colorbar\":{\"outlinewidth\":0,\"ticks\":\"\"}},\"colorscale\":{\"sequential\":[[0.0,\"#0d0887\"],[0.1111111111111111,\"#46039f\"],[0.2222222222222222,\"#7201a8\"],[0.3333333333333333,\"#9c179e\"],[0.4444444444444444,\"#bd3786\"],[0.5555555555555556,\"#d8576b\"],[0.6666666666666666,\"#ed7953\"],[0.7777777777777778,\"#fb9f3a\"],[0.8888888888888888,\"#fdca26\"],[1.0,\"#f0f921\"]],\"sequentialminus\":[[0.0,\"#0d0887\"],[0.1111111111111111,\"#46039f\"],[0.2222222222222222,\"#7201a8\"],[0.3333333333333333,\"#9c179e\"],[0.4444444444444444,\"#bd3786\"],[0.5555555555555556,\"#d8576b\"],[0.6666666666666666,\"#ed7953\"],[0.7777777777777778,\"#fb9f3a\"],[0.8888888888888888,\"#fdca26\"],[1.0,\"#f0f921\"]],\"diverging\":[[0,\"#8e0152\"],[0.1,\"#c51b7d\"],[0.2,\"#de77ae\"],[0.3,\"#f1b6da\"],[0.4,\"#fde0ef\"],[0.5,\"#f7f7f7\"],[0.6,\"#e6f5d0\"],[0.7,\"#b8e186\"],[0.8,\"#7fbc41\"],[0.9,\"#4d9221\"],[1,\"#276419\"]]},\"xaxis\":{\"gridcolor\":\"white\",\"linecolor\":\"white\",\"ticks\":\"\",\"title\":{\"standoff\":15},\"zerolinecolor\":\"white\",\"automargin\":true,\"zerolinewidth\":2},\"yaxis\":{\"gridcolor\":\"white\",\"linecolor\":\"white\",\"ticks\":\"\",\"title\":{\"standoff\":15},\"zerolinecolor\":\"white\",\"automargin\":true,\"zerolinewidth\":2},\"scene\":{\"xaxis\":{\"backgroundcolor\":\"#E5ECF6\",\"gridcolor\":\"white\",\"linecolor\":\"white\",\"showbackground\":true,\"ticks\":\"\",\"zerolinecolor\":\"white\",\"gridwidth\":2},\"yaxis\":{\"backgroundcolor\":\"#E5ECF6\",\"gridcolor\":\"white\",\"linecolor\":\"white\",\"showbackground\":true,\"ticks\":\"\",\"zerolinecolor\":\"white\",\"gridwidth\":2},\"zaxis\":{\"backgroundcolor\":\"#E5ECF6\",\"gridcolor\":\"white\",\"linecolor\":\"white\",\"showbackground\":true,\"ticks\":\"\",\"zerolinecolor\":\"white\",\"gridwidth\":2}},\"shapedefaults\":{\"line\":{\"color\":\"#2a3f5f\"}},\"annotationdefaults\":{\"arrowcolor\":\"#2a3f5f\",\"arrowhead\":0,\"arrowwidth\":1},\"geo\":{\"bgcolor\":\"white\",\"landcolor\":\"#E5ECF6\",\"subunitcolor\":\"white\",\"showland\":true,\"showlakes\":true,\"lakecolor\":\"white\"},\"title\":{\"x\":0.05},\"mapbox\":{\"style\":\"light\"}}}},                        {\"responsive\": true}                    ).then(function(){\n",
       "                            \n",
       "var gd = document.getElementById('dbdc98c5-7a53-47e8-b868-38d86f04b470');\n",
       "var x = new MutationObserver(function (mutations, observer) {{\n",
       "        var display = window.getComputedStyle(gd).display;\n",
       "        if (!display || display === 'none') {{\n",
       "            console.log([gd, 'removed!']);\n",
       "            Plotly.purge(gd);\n",
       "            observer.disconnect();\n",
       "        }}\n",
       "}});\n",
       "\n",
       "// Listen for the removal of the full notebook cells\n",
       "var notebookContainer = gd.closest('#notebook-container');\n",
       "if (notebookContainer) {{\n",
       "    x.observe(notebookContainer, {childList: true});\n",
       "}}\n",
       "\n",
       "// Listen for the clearing of the current output cell\n",
       "var outputEl = gd.closest('.output');\n",
       "if (outputEl) {{\n",
       "    x.observe(outputEl, {childList: true});\n",
       "}}\n",
       "\n",
       "                        })                };                });            </script>        </div>"
      ]
     },
     "metadata": {},
     "output_type": "display_data"
    }
   ],
   "source": [
    "go.Figure(data=[go.Pie(labels=filtered_df['lab_or_lecture'],\n",
    "                             values=filtered_df['duration'],\n",
    "                             hoverinfo='label+percent',\n",
    "                             textinfo='value')])"
   ]
  },
  {
   "cell_type": "code",
   "execution_count": 2,
   "id": "e755b058",
   "metadata": {},
   "outputs": [],
   "source": [
    "import pandas as pd"
   ]
  },
  {
   "cell_type": "code",
   "execution_count": 25,
   "id": "1385b090",
   "metadata": {},
   "outputs": [],
   "source": [
    "df=pd.read_csv('bap_ise_data.csv')"
   ]
  },
  {
   "cell_type": "code",
   "execution_count": 26,
   "id": "4977e5e8",
   "metadata": {},
   "outputs": [
    {
     "data": {
      "text/html": [
       "<div>\n",
       "<style scoped>\n",
       "    .dataframe tbody tr th:only-of-type {\n",
       "        vertical-align: middle;\n",
       "    }\n",
       "\n",
       "    .dataframe tbody tr th {\n",
       "        vertical-align: top;\n",
       "    }\n",
       "\n",
       "    .dataframe thead th {\n",
       "        text-align: right;\n",
       "    }\n",
       "</style>\n",
       "<table border=\"1\" class=\"dataframe\">\n",
       "  <thead>\n",
       "    <tr style=\"text-align: right;\">\n",
       "      <th></th>\n",
       "      <th>serial_num</th>\n",
       "      <th>subject_code</th>\n",
       "      <th>course_type</th>\n",
       "      <th>lab_or_lecture</th>\n",
       "      <th>department</th>\n",
       "      <th>branch</th>\n",
       "      <th>batch</th>\n",
       "      <th>faculty_code</th>\n",
       "      <th>floor</th>\n",
       "      <th>room_num</th>\n",
       "      <th>day</th>\n",
       "      <th>start_time</th>\n",
       "      <th>end_time</th>\n",
       "      <th>year</th>\n",
       "      <th>duration</th>\n",
       "    </tr>\n",
       "  </thead>\n",
       "  <tbody>\n",
       "    <tr>\n",
       "      <th>0</th>\n",
       "      <td>1</td>\n",
       "      <td>NLP</td>\n",
       "      <td>PE</td>\n",
       "      <td>lecture</td>\n",
       "      <td>all</td>\n",
       "      <td>all</td>\n",
       "      <td>N</td>\n",
       "      <td>RK</td>\n",
       "      <td>6</td>\n",
       "      <td>601</td>\n",
       "      <td>monday</td>\n",
       "      <td>9:00:00</td>\n",
       "      <td>11:00:00</td>\n",
       "      <td>TE</td>\n",
       "      <td>2</td>\n",
       "    </tr>\n",
       "    <tr>\n",
       "      <th>1</th>\n",
       "      <td>2</td>\n",
       "      <td>BAP</td>\n",
       "      <td>PE</td>\n",
       "      <td>lab</td>\n",
       "      <td>all</td>\n",
       "      <td>all</td>\n",
       "      <td>F</td>\n",
       "      <td>SC</td>\n",
       "      <td>4</td>\n",
       "      <td>410B</td>\n",
       "      <td>monday</td>\n",
       "      <td>9:00:00</td>\n",
       "      <td>11:00:00</td>\n",
       "      <td>TE</td>\n",
       "      <td>2</td>\n",
       "    </tr>\n",
       "    <tr>\n",
       "      <th>2</th>\n",
       "      <td>3</td>\n",
       "      <td>EH</td>\n",
       "      <td>PE</td>\n",
       "      <td>lab</td>\n",
       "      <td>all</td>\n",
       "      <td>all</td>\n",
       "      <td>B</td>\n",
       "      <td>RP</td>\n",
       "      <td>4</td>\n",
       "      <td>406A</td>\n",
       "      <td>monday</td>\n",
       "      <td>9:00:00</td>\n",
       "      <td>11:00:00</td>\n",
       "      <td>TE</td>\n",
       "      <td>2</td>\n",
       "    </tr>\n",
       "    <tr>\n",
       "      <th>3</th>\n",
       "      <td>4</td>\n",
       "      <td>BCT</td>\n",
       "      <td>PE</td>\n",
       "      <td>lab</td>\n",
       "      <td>all</td>\n",
       "      <td>all</td>\n",
       "      <td>C-PE</td>\n",
       "      <td>DDA</td>\n",
       "      <td>4</td>\n",
       "      <td>404</td>\n",
       "      <td>monday</td>\n",
       "      <td>9:00:00</td>\n",
       "      <td>11:00:00</td>\n",
       "      <td>TE</td>\n",
       "      <td>2</td>\n",
       "    </tr>\n",
       "    <tr>\n",
       "      <th>4</th>\n",
       "      <td>5</td>\n",
       "      <td>DC</td>\n",
       "      <td>PC</td>\n",
       "      <td>lecture</td>\n",
       "      <td>CSE</td>\n",
       "      <td>DS</td>\n",
       "      <td>all</td>\n",
       "      <td>SBG</td>\n",
       "      <td>4</td>\n",
       "      <td>407</td>\n",
       "      <td>monday</td>\n",
       "      <td>11:15:00</td>\n",
       "      <td>12:15:00</td>\n",
       "      <td>TE</td>\n",
       "      <td>1</td>\n",
       "    </tr>\n",
       "    <tr>\n",
       "      <th>...</th>\n",
       "      <td>...</td>\n",
       "      <td>...</td>\n",
       "      <td>...</td>\n",
       "      <td>...</td>\n",
       "      <td>...</td>\n",
       "      <td>...</td>\n",
       "      <td>...</td>\n",
       "      <td>...</td>\n",
       "      <td>...</td>\n",
       "      <td>...</td>\n",
       "      <td>...</td>\n",
       "      <td>...</td>\n",
       "      <td>...</td>\n",
       "      <td>...</td>\n",
       "      <td>...</td>\n",
       "    </tr>\n",
       "    <tr>\n",
       "      <th>298</th>\n",
       "      <td>299</td>\n",
       "      <td>LA</td>\n",
       "      <td>BSC</td>\n",
       "      <td>lab</td>\n",
       "      <td>CSE</td>\n",
       "      <td>AIML</td>\n",
       "      <td>A</td>\n",
       "      <td>RM</td>\n",
       "      <td>4</td>\n",
       "      <td>404</td>\n",
       "      <td>friday</td>\n",
       "      <td>9:00:00</td>\n",
       "      <td>11:00:00</td>\n",
       "      <td>SE</td>\n",
       "      <td>2</td>\n",
       "    </tr>\n",
       "    <tr>\n",
       "      <th>299</th>\n",
       "      <td>300</td>\n",
       "      <td>CCN</td>\n",
       "      <td>PC</td>\n",
       "      <td>lab</td>\n",
       "      <td>CSE</td>\n",
       "      <td>AIML</td>\n",
       "      <td>C</td>\n",
       "      <td>AVN</td>\n",
       "      <td>4</td>\n",
       "      <td>410B</td>\n",
       "      <td>friday</td>\n",
       "      <td>9:00:00</td>\n",
       "      <td>11:00:00</td>\n",
       "      <td>SE</td>\n",
       "      <td>2</td>\n",
       "    </tr>\n",
       "    <tr>\n",
       "      <th>300</th>\n",
       "      <td>301</td>\n",
       "      <td>OS</td>\n",
       "      <td>PC</td>\n",
       "      <td>lecture</td>\n",
       "      <td>CSE</td>\n",
       "      <td>AIML</td>\n",
       "      <td>N</td>\n",
       "      <td>AT</td>\n",
       "      <td>4</td>\n",
       "      <td>405</td>\n",
       "      <td>friday</td>\n",
       "      <td>11:15:00</td>\n",
       "      <td>12:15:00</td>\n",
       "      <td>SE</td>\n",
       "      <td>1</td>\n",
       "    </tr>\n",
       "    <tr>\n",
       "      <th>301</th>\n",
       "      <td>302</td>\n",
       "      <td>OS</td>\n",
       "      <td>PC</td>\n",
       "      <td>lecture</td>\n",
       "      <td>CSE</td>\n",
       "      <td>AIML</td>\n",
       "      <td>N</td>\n",
       "      <td>AT</td>\n",
       "      <td>4</td>\n",
       "      <td>405</td>\n",
       "      <td>friday</td>\n",
       "      <td>12:15:00</td>\n",
       "      <td>13:15:00</td>\n",
       "      <td>SE</td>\n",
       "      <td>1</td>\n",
       "    </tr>\n",
       "    <tr>\n",
       "      <th>302</th>\n",
       "      <td>303</td>\n",
       "      <td>FOM-II</td>\n",
       "      <td>BSC(LE)</td>\n",
       "      <td>lecture</td>\n",
       "      <td>all</td>\n",
       "      <td>all</td>\n",
       "      <td>N</td>\n",
       "      <td>RRS</td>\n",
       "      <td>3</td>\n",
       "      <td>309</td>\n",
       "      <td>friday</td>\n",
       "      <td>14:00:00</td>\n",
       "      <td>15:00:00</td>\n",
       "      <td>SE</td>\n",
       "      <td>1</td>\n",
       "    </tr>\n",
       "  </tbody>\n",
       "</table>\n",
       "<p>303 rows × 15 columns</p>\n",
       "</div>"
      ],
      "text/plain": [
       "     serial_num subject_code course_type lab_or_lecture department branch  \\\n",
       "0             1          NLP          PE        lecture        all    all   \n",
       "1             2          BAP          PE            lab        all    all   \n",
       "2             3           EH          PE            lab        all    all   \n",
       "3             4          BCT          PE            lab        all    all   \n",
       "4             5           DC          PC        lecture        CSE     DS   \n",
       "..          ...          ...         ...            ...        ...    ...   \n",
       "298         299           LA         BSC            lab        CSE   AIML   \n",
       "299         300          CCN          PC            lab        CSE   AIML   \n",
       "300         301           OS          PC        lecture        CSE   AIML   \n",
       "301         302           OS          PC        lecture        CSE   AIML   \n",
       "302         303       FOM-II     BSC(LE)        lecture        all    all   \n",
       "\n",
       "    batch faculty_code floor room_num     day start_time  end_time year  \\\n",
       "0       N           RK     6      601  monday    9:00:00  11:00:00   TE   \n",
       "1       F           SC     4     410B  monday    9:00:00  11:00:00   TE   \n",
       "2       B           RP     4     406A  monday    9:00:00  11:00:00   TE   \n",
       "3    C-PE          DDA     4      404  monday    9:00:00  11:00:00   TE   \n",
       "4     all          SBG     4      407  monday   11:15:00  12:15:00   TE   \n",
       "..    ...          ...   ...      ...     ...        ...       ...  ...   \n",
       "298     A           RM     4      404  friday    9:00:00  11:00:00   SE   \n",
       "299     C          AVN     4     410B  friday    9:00:00  11:00:00   SE   \n",
       "300     N           AT     4      405  friday   11:15:00  12:15:00   SE   \n",
       "301     N           AT     4      405  friday   12:15:00  13:15:00   SE   \n",
       "302     N          RRS     3      309  friday   14:00:00  15:00:00   SE   \n",
       "\n",
       "     duration  \n",
       "0           2  \n",
       "1           2  \n",
       "2           2  \n",
       "3           2  \n",
       "4           1  \n",
       "..        ...  \n",
       "298         2  \n",
       "299         2  \n",
       "300         1  \n",
       "301         1  \n",
       "302         1  \n",
       "\n",
       "[303 rows x 15 columns]"
      ]
     },
     "execution_count": 26,
     "metadata": {},
     "output_type": "execute_result"
    }
   ],
   "source": [
    "df"
   ]
  },
  {
   "cell_type": "code",
   "execution_count": 27,
   "id": "53a28dc6",
   "metadata": {},
   "outputs": [],
   "source": [
    "df.loc[df[(df['subject_code']=='PCS')&(df['faculty_code']=='SD')].index, 'faculty_code'] = 'SD2'"
   ]
  },
  {
   "cell_type": "code",
   "execution_count": 28,
   "id": "482d7e6f",
   "metadata": {},
   "outputs": [
    {
     "data": {
      "text/html": [
       "<div>\n",
       "<style scoped>\n",
       "    .dataframe tbody tr th:only-of-type {\n",
       "        vertical-align: middle;\n",
       "    }\n",
       "\n",
       "    .dataframe tbody tr th {\n",
       "        vertical-align: top;\n",
       "    }\n",
       "\n",
       "    .dataframe thead th {\n",
       "        text-align: right;\n",
       "    }\n",
       "</style>\n",
       "<table border=\"1\" class=\"dataframe\">\n",
       "  <thead>\n",
       "    <tr style=\"text-align: right;\">\n",
       "      <th></th>\n",
       "      <th>serial_num</th>\n",
       "      <th>subject_code</th>\n",
       "      <th>course_type</th>\n",
       "      <th>lab_or_lecture</th>\n",
       "      <th>department</th>\n",
       "      <th>branch</th>\n",
       "      <th>batch</th>\n",
       "      <th>faculty_code</th>\n",
       "      <th>floor</th>\n",
       "      <th>room_num</th>\n",
       "      <th>day</th>\n",
       "      <th>start_time</th>\n",
       "      <th>end_time</th>\n",
       "      <th>year</th>\n",
       "      <th>duration</th>\n",
       "    </tr>\n",
       "  </thead>\n",
       "  <tbody>\n",
       "    <tr>\n",
       "      <th>132</th>\n",
       "      <td>133</td>\n",
       "      <td>PCS</td>\n",
       "      <td>SBC</td>\n",
       "      <td>lab</td>\n",
       "      <td>CE</td>\n",
       "      <td>COMPSA</td>\n",
       "      <td>C</td>\n",
       "      <td>DN</td>\n",
       "      <td>6</td>\n",
       "      <td>607B</td>\n",
       "      <td>monday</td>\n",
       "      <td>11:15:00</td>\n",
       "      <td>13:15:00</td>\n",
       "      <td>SE</td>\n",
       "      <td>2</td>\n",
       "    </tr>\n",
       "    <tr>\n",
       "      <th>149</th>\n",
       "      <td>150</td>\n",
       "      <td>PCS</td>\n",
       "      <td>SBC</td>\n",
       "      <td>lab</td>\n",
       "      <td>CE</td>\n",
       "      <td>COMPSA</td>\n",
       "      <td>D</td>\n",
       "      <td>DN</td>\n",
       "      <td>6</td>\n",
       "      <td>607B</td>\n",
       "      <td>wednesday</td>\n",
       "      <td>9:00:00</td>\n",
       "      <td>11:00:00</td>\n",
       "      <td>SE</td>\n",
       "      <td>2</td>\n",
       "    </tr>\n",
       "    <tr>\n",
       "      <th>153</th>\n",
       "      <td>154</td>\n",
       "      <td>PCS</td>\n",
       "      <td>SBC</td>\n",
       "      <td>lecture</td>\n",
       "      <td>CE</td>\n",
       "      <td>COMPSA</td>\n",
       "      <td>N</td>\n",
       "      <td>DN</td>\n",
       "      <td>8</td>\n",
       "      <td>801</td>\n",
       "      <td>wednesday</td>\n",
       "      <td>11:15:00</td>\n",
       "      <td>12:15:00</td>\n",
       "      <td>SE</td>\n",
       "      <td>1</td>\n",
       "    </tr>\n",
       "    <tr>\n",
       "      <th>161</th>\n",
       "      <td>162</td>\n",
       "      <td>PCS</td>\n",
       "      <td>SBC</td>\n",
       "      <td>lab</td>\n",
       "      <td>CE</td>\n",
       "      <td>COMPSA</td>\n",
       "      <td>A</td>\n",
       "      <td>DN</td>\n",
       "      <td>6</td>\n",
       "      <td>607B</td>\n",
       "      <td>thursday</td>\n",
       "      <td>11:15:00</td>\n",
       "      <td>13:15:00</td>\n",
       "      <td>SE</td>\n",
       "      <td>2</td>\n",
       "    </tr>\n",
       "    <tr>\n",
       "      <th>169</th>\n",
       "      <td>170</td>\n",
       "      <td>PCS</td>\n",
       "      <td>SBC</td>\n",
       "      <td>lab</td>\n",
       "      <td>CE</td>\n",
       "      <td>COMPSA</td>\n",
       "      <td>B</td>\n",
       "      <td>DN</td>\n",
       "      <td>6</td>\n",
       "      <td>607B</td>\n",
       "      <td>friday</td>\n",
       "      <td>9:00:00</td>\n",
       "      <td>11:00:00</td>\n",
       "      <td>SE</td>\n",
       "      <td>2</td>\n",
       "    </tr>\n",
       "    <tr>\n",
       "      <th>177</th>\n",
       "      <td>178</td>\n",
       "      <td>PCS</td>\n",
       "      <td>SBC</td>\n",
       "      <td>lab</td>\n",
       "      <td>CE</td>\n",
       "      <td>COMPSB</td>\n",
       "      <td>C</td>\n",
       "      <td>DN</td>\n",
       "      <td>6</td>\n",
       "      <td>607B</td>\n",
       "      <td>monday</td>\n",
       "      <td>9:00:00</td>\n",
       "      <td>11:00:00</td>\n",
       "      <td>SE</td>\n",
       "      <td>2</td>\n",
       "    </tr>\n",
       "    <tr>\n",
       "      <th>186</th>\n",
       "      <td>187</td>\n",
       "      <td>PCS</td>\n",
       "      <td>SBC</td>\n",
       "      <td>lab</td>\n",
       "      <td>CE</td>\n",
       "      <td>COMPSB</td>\n",
       "      <td>A</td>\n",
       "      <td>DN</td>\n",
       "      <td>6</td>\n",
       "      <td>607B</td>\n",
       "      <td>tuesday</td>\n",
       "      <td>9:00:00</td>\n",
       "      <td>11:00:00</td>\n",
       "      <td>SE</td>\n",
       "      <td>2</td>\n",
       "    </tr>\n",
       "    <tr>\n",
       "      <th>187</th>\n",
       "      <td>188</td>\n",
       "      <td>PCS</td>\n",
       "      <td>SBC</td>\n",
       "      <td>lecture</td>\n",
       "      <td>CE</td>\n",
       "      <td>COMPSB</td>\n",
       "      <td>N</td>\n",
       "      <td>DN</td>\n",
       "      <td>6</td>\n",
       "      <td>609</td>\n",
       "      <td>tuesday</td>\n",
       "      <td>11:15:00</td>\n",
       "      <td>12:15:00</td>\n",
       "      <td>SE</td>\n",
       "      <td>1</td>\n",
       "    </tr>\n",
       "    <tr>\n",
       "      <th>202</th>\n",
       "      <td>203</td>\n",
       "      <td>PCS</td>\n",
       "      <td>SBC</td>\n",
       "      <td>lab</td>\n",
       "      <td>CE</td>\n",
       "      <td>COMPSB</td>\n",
       "      <td>B</td>\n",
       "      <td>DN</td>\n",
       "      <td>6</td>\n",
       "      <td>607B</td>\n",
       "      <td>thursday</td>\n",
       "      <td>9:00:00</td>\n",
       "      <td>11:00:00</td>\n",
       "      <td>SE</td>\n",
       "      <td>2</td>\n",
       "    </tr>\n",
       "    <tr>\n",
       "      <th>215</th>\n",
       "      <td>216</td>\n",
       "      <td>PCS</td>\n",
       "      <td>SBC</td>\n",
       "      <td>lab</td>\n",
       "      <td>CE</td>\n",
       "      <td>COMPSB</td>\n",
       "      <td>D</td>\n",
       "      <td>DN</td>\n",
       "      <td>6</td>\n",
       "      <td>609</td>\n",
       "      <td>friday</td>\n",
       "      <td>11:15:00</td>\n",
       "      <td>13:15:00</td>\n",
       "      <td>SE</td>\n",
       "      <td>2</td>\n",
       "    </tr>\n",
       "    <tr>\n",
       "      <th>219</th>\n",
       "      <td>220</td>\n",
       "      <td>PCS</td>\n",
       "      <td>SBC</td>\n",
       "      <td>lab</td>\n",
       "      <td>CSE</td>\n",
       "      <td>AIML</td>\n",
       "      <td>C</td>\n",
       "      <td>SD2</td>\n",
       "      <td>4</td>\n",
       "      <td>407</td>\n",
       "      <td>monday</td>\n",
       "      <td>9:00:00</td>\n",
       "      <td>11:00:00</td>\n",
       "      <td>SE</td>\n",
       "      <td>2</td>\n",
       "    </tr>\n",
       "    <tr>\n",
       "      <th>236</th>\n",
       "      <td>237</td>\n",
       "      <td>PCS</td>\n",
       "      <td>SBC</td>\n",
       "      <td>lab</td>\n",
       "      <td>CSE</td>\n",
       "      <td>AIML</td>\n",
       "      <td>D</td>\n",
       "      <td>SD2</td>\n",
       "      <td>4</td>\n",
       "      <td>407</td>\n",
       "      <td>wednesday</td>\n",
       "      <td>9:00:00</td>\n",
       "      <td>11:00:00</td>\n",
       "      <td>SE</td>\n",
       "      <td>2</td>\n",
       "    </tr>\n",
       "    <tr>\n",
       "      <th>241</th>\n",
       "      <td>242</td>\n",
       "      <td>PCS</td>\n",
       "      <td>SBC</td>\n",
       "      <td>lecture</td>\n",
       "      <td>CSE</td>\n",
       "      <td>AIML</td>\n",
       "      <td>N</td>\n",
       "      <td>SD2</td>\n",
       "      <td>4</td>\n",
       "      <td>405</td>\n",
       "      <td>wednesday</td>\n",
       "      <td>14:00:00</td>\n",
       "      <td>15:00:00</td>\n",
       "      <td>SE</td>\n",
       "      <td>1</td>\n",
       "    </tr>\n",
       "    <tr>\n",
       "      <th>246</th>\n",
       "      <td>247</td>\n",
       "      <td>PCS</td>\n",
       "      <td>SBC</td>\n",
       "      <td>lab</td>\n",
       "      <td>CSE</td>\n",
       "      <td>AIML</td>\n",
       "      <td>A</td>\n",
       "      <td>SD2</td>\n",
       "      <td>4</td>\n",
       "      <td>406A</td>\n",
       "      <td>thursday</td>\n",
       "      <td>11:15:00</td>\n",
       "      <td>13:15:00</td>\n",
       "      <td>SE</td>\n",
       "      <td>2</td>\n",
       "    </tr>\n",
       "    <tr>\n",
       "      <th>258</th>\n",
       "      <td>259</td>\n",
       "      <td>PCS</td>\n",
       "      <td>SBC</td>\n",
       "      <td>lab</td>\n",
       "      <td>CSE</td>\n",
       "      <td>AIML</td>\n",
       "      <td>B</td>\n",
       "      <td>SD2</td>\n",
       "      <td>4</td>\n",
       "      <td>409</td>\n",
       "      <td>friday</td>\n",
       "      <td>11:15:00</td>\n",
       "      <td>13:15:00</td>\n",
       "      <td>SE</td>\n",
       "      <td>2</td>\n",
       "    </tr>\n",
       "    <tr>\n",
       "      <th>263</th>\n",
       "      <td>264</td>\n",
       "      <td>PCS</td>\n",
       "      <td>SBC</td>\n",
       "      <td>lab</td>\n",
       "      <td>CSE</td>\n",
       "      <td>AIML</td>\n",
       "      <td>C</td>\n",
       "      <td>SD2</td>\n",
       "      <td>4</td>\n",
       "      <td>408</td>\n",
       "      <td>monday</td>\n",
       "      <td>11:15:00</td>\n",
       "      <td>13:15:00</td>\n",
       "      <td>SE</td>\n",
       "      <td>2</td>\n",
       "    </tr>\n",
       "    <tr>\n",
       "      <th>269</th>\n",
       "      <td>270</td>\n",
       "      <td>PCS</td>\n",
       "      <td>SBC</td>\n",
       "      <td>lab</td>\n",
       "      <td>CSE</td>\n",
       "      <td>AIML</td>\n",
       "      <td>B</td>\n",
       "      <td>SD2</td>\n",
       "      <td>4</td>\n",
       "      <td>407</td>\n",
       "      <td>tuesday</td>\n",
       "      <td>9:00:00</td>\n",
       "      <td>11:00:00</td>\n",
       "      <td>SE</td>\n",
       "      <td>2</td>\n",
       "    </tr>\n",
       "    <tr>\n",
       "      <th>273</th>\n",
       "      <td>274</td>\n",
       "      <td>PCS</td>\n",
       "      <td>SBC</td>\n",
       "      <td>lecture</td>\n",
       "      <td>CSE</td>\n",
       "      <td>AIML</td>\n",
       "      <td>N</td>\n",
       "      <td>SD2</td>\n",
       "      <td>4</td>\n",
       "      <td>405</td>\n",
       "      <td>tuesday</td>\n",
       "      <td>11:15:00</td>\n",
       "      <td>12:15:00</td>\n",
       "      <td>SE</td>\n",
       "      <td>1</td>\n",
       "    </tr>\n",
       "    <tr>\n",
       "      <th>283</th>\n",
       "      <td>284</td>\n",
       "      <td>PCS</td>\n",
       "      <td>SBC</td>\n",
       "      <td>lab</td>\n",
       "      <td>CSE</td>\n",
       "      <td>AIML</td>\n",
       "      <td>A</td>\n",
       "      <td>SD2</td>\n",
       "      <td>4</td>\n",
       "      <td>412</td>\n",
       "      <td>wednesday</td>\n",
       "      <td>11:15:00</td>\n",
       "      <td>13:15:00</td>\n",
       "      <td>SE</td>\n",
       "      <td>2</td>\n",
       "    </tr>\n",
       "    <tr>\n",
       "      <th>296</th>\n",
       "      <td>297</td>\n",
       "      <td>PCS</td>\n",
       "      <td>SBC</td>\n",
       "      <td>lab</td>\n",
       "      <td>CSE</td>\n",
       "      <td>AIML</td>\n",
       "      <td>D</td>\n",
       "      <td>SD2</td>\n",
       "      <td>4</td>\n",
       "      <td>407</td>\n",
       "      <td>friday</td>\n",
       "      <td>9:00:00</td>\n",
       "      <td>11:00:00</td>\n",
       "      <td>SE</td>\n",
       "      <td>2</td>\n",
       "    </tr>\n",
       "  </tbody>\n",
       "</table>\n",
       "</div>"
      ],
      "text/plain": [
       "     serial_num subject_code course_type lab_or_lecture department  branch  \\\n",
       "132         133          PCS         SBC            lab         CE  COMPSA   \n",
       "149         150          PCS         SBC            lab         CE  COMPSA   \n",
       "153         154          PCS         SBC        lecture         CE  COMPSA   \n",
       "161         162          PCS         SBC            lab         CE  COMPSA   \n",
       "169         170          PCS         SBC            lab         CE  COMPSA   \n",
       "177         178          PCS         SBC            lab         CE  COMPSB   \n",
       "186         187          PCS         SBC            lab         CE  COMPSB   \n",
       "187         188          PCS         SBC        lecture         CE  COMPSB   \n",
       "202         203          PCS         SBC            lab         CE  COMPSB   \n",
       "215         216          PCS         SBC            lab         CE  COMPSB   \n",
       "219         220          PCS         SBC            lab        CSE    AIML   \n",
       "236         237          PCS         SBC            lab        CSE    AIML   \n",
       "241         242          PCS         SBC        lecture        CSE    AIML   \n",
       "246         247          PCS         SBC            lab        CSE    AIML   \n",
       "258         259          PCS         SBC            lab        CSE    AIML   \n",
       "263         264          PCS         SBC            lab        CSE    AIML   \n",
       "269         270          PCS         SBC            lab        CSE    AIML   \n",
       "273         274          PCS         SBC        lecture        CSE    AIML   \n",
       "283         284          PCS         SBC            lab        CSE    AIML   \n",
       "296         297          PCS         SBC            lab        CSE    AIML   \n",
       "\n",
       "    batch faculty_code floor room_num        day start_time  end_time year  \\\n",
       "132     C           DN     6     607B     monday   11:15:00  13:15:00   SE   \n",
       "149     D           DN     6     607B  wednesday    9:00:00  11:00:00   SE   \n",
       "153     N           DN     8      801  wednesday   11:15:00  12:15:00   SE   \n",
       "161     A           DN     6     607B   thursday   11:15:00  13:15:00   SE   \n",
       "169     B           DN     6     607B     friday    9:00:00  11:00:00   SE   \n",
       "177     C           DN     6     607B     monday    9:00:00  11:00:00   SE   \n",
       "186     A           DN     6     607B    tuesday    9:00:00  11:00:00   SE   \n",
       "187     N           DN     6      609    tuesday   11:15:00  12:15:00   SE   \n",
       "202     B           DN     6     607B   thursday    9:00:00  11:00:00   SE   \n",
       "215     D           DN     6      609     friday   11:15:00  13:15:00   SE   \n",
       "219     C          SD2     4      407     monday    9:00:00  11:00:00   SE   \n",
       "236     D          SD2     4      407  wednesday    9:00:00  11:00:00   SE   \n",
       "241     N          SD2     4      405  wednesday   14:00:00  15:00:00   SE   \n",
       "246     A          SD2     4     406A   thursday   11:15:00  13:15:00   SE   \n",
       "258     B          SD2     4      409     friday   11:15:00  13:15:00   SE   \n",
       "263     C          SD2     4      408     monday   11:15:00  13:15:00   SE   \n",
       "269     B          SD2     4      407    tuesday    9:00:00  11:00:00   SE   \n",
       "273     N          SD2     4      405    tuesday   11:15:00  12:15:00   SE   \n",
       "283     A          SD2     4      412  wednesday   11:15:00  13:15:00   SE   \n",
       "296     D          SD2     4      407     friday    9:00:00  11:00:00   SE   \n",
       "\n",
       "     duration  \n",
       "132         2  \n",
       "149         2  \n",
       "153         1  \n",
       "161         2  \n",
       "169         2  \n",
       "177         2  \n",
       "186         2  \n",
       "187         1  \n",
       "202         2  \n",
       "215         2  \n",
       "219         2  \n",
       "236         2  \n",
       "241         1  \n",
       "246         2  \n",
       "258         2  \n",
       "263         2  \n",
       "269         2  \n",
       "273         1  \n",
       "283         2  \n",
       "296         2  "
      ]
     },
     "execution_count": 28,
     "metadata": {},
     "output_type": "execute_result"
    }
   ],
   "source": [
    "df[(df['subject_code']=='PCS')]"
   ]
  },
  {
   "cell_type": "code",
   "execution_count": 14,
   "id": "bc1f1b86",
   "metadata": {},
   "outputs": [
    {
     "data": {
      "text/html": [
       "<div>\n",
       "<style scoped>\n",
       "    .dataframe tbody tr th:only-of-type {\n",
       "        vertical-align: middle;\n",
       "    }\n",
       "\n",
       "    .dataframe tbody tr th {\n",
       "        vertical-align: top;\n",
       "    }\n",
       "\n",
       "    .dataframe thead th {\n",
       "        text-align: right;\n",
       "    }\n",
       "</style>\n",
       "<table border=\"1\" class=\"dataframe\">\n",
       "  <thead>\n",
       "    <tr style=\"text-align: right;\">\n",
       "      <th></th>\n",
       "      <th>serial_num</th>\n",
       "      <th>subject_code</th>\n",
       "      <th>course_type</th>\n",
       "      <th>lab_or_lecture</th>\n",
       "      <th>department</th>\n",
       "      <th>branch</th>\n",
       "      <th>batch</th>\n",
       "      <th>faculty_code</th>\n",
       "      <th>floor</th>\n",
       "      <th>room_num</th>\n",
       "      <th>day</th>\n",
       "      <th>start_time</th>\n",
       "      <th>end_time</th>\n",
       "      <th>year</th>\n",
       "      <th>duration</th>\n",
       "    </tr>\n",
       "  </thead>\n",
       "  <tbody>\n",
       "    <tr>\n",
       "      <th>219</th>\n",
       "      <td>220</td>\n",
       "      <td>PCS</td>\n",
       "      <td>SBC</td>\n",
       "      <td>lab</td>\n",
       "      <td>CSE</td>\n",
       "      <td>AIML</td>\n",
       "      <td>C</td>\n",
       "      <td>SD</td>\n",
       "      <td>4</td>\n",
       "      <td>407</td>\n",
       "      <td>monday</td>\n",
       "      <td>9:00:00</td>\n",
       "      <td>11:00:00</td>\n",
       "      <td>SE</td>\n",
       "      <td>2</td>\n",
       "    </tr>\n",
       "    <tr>\n",
       "      <th>236</th>\n",
       "      <td>237</td>\n",
       "      <td>PCS</td>\n",
       "      <td>SBC</td>\n",
       "      <td>lab</td>\n",
       "      <td>CSE</td>\n",
       "      <td>AIML</td>\n",
       "      <td>D</td>\n",
       "      <td>SD</td>\n",
       "      <td>4</td>\n",
       "      <td>407</td>\n",
       "      <td>wednesday</td>\n",
       "      <td>9:00:00</td>\n",
       "      <td>11:00:00</td>\n",
       "      <td>SE</td>\n",
       "      <td>2</td>\n",
       "    </tr>\n",
       "    <tr>\n",
       "      <th>241</th>\n",
       "      <td>242</td>\n",
       "      <td>PCS</td>\n",
       "      <td>SBC</td>\n",
       "      <td>lecture</td>\n",
       "      <td>CSE</td>\n",
       "      <td>AIML</td>\n",
       "      <td>N</td>\n",
       "      <td>SD</td>\n",
       "      <td>4</td>\n",
       "      <td>405</td>\n",
       "      <td>wednesday</td>\n",
       "      <td>14:00:00</td>\n",
       "      <td>15:00:00</td>\n",
       "      <td>SE</td>\n",
       "      <td>1</td>\n",
       "    </tr>\n",
       "    <tr>\n",
       "      <th>246</th>\n",
       "      <td>247</td>\n",
       "      <td>PCS</td>\n",
       "      <td>SBC</td>\n",
       "      <td>lab</td>\n",
       "      <td>CSE</td>\n",
       "      <td>AIML</td>\n",
       "      <td>A</td>\n",
       "      <td>SD</td>\n",
       "      <td>4</td>\n",
       "      <td>406A</td>\n",
       "      <td>thursday</td>\n",
       "      <td>11:15:00</td>\n",
       "      <td>13:15:00</td>\n",
       "      <td>SE</td>\n",
       "      <td>2</td>\n",
       "    </tr>\n",
       "    <tr>\n",
       "      <th>258</th>\n",
       "      <td>259</td>\n",
       "      <td>PCS</td>\n",
       "      <td>SBC</td>\n",
       "      <td>lab</td>\n",
       "      <td>CSE</td>\n",
       "      <td>AIML</td>\n",
       "      <td>B</td>\n",
       "      <td>SD</td>\n",
       "      <td>4</td>\n",
       "      <td>409</td>\n",
       "      <td>friday</td>\n",
       "      <td>11:15:00</td>\n",
       "      <td>13:15:00</td>\n",
       "      <td>SE</td>\n",
       "      <td>2</td>\n",
       "    </tr>\n",
       "    <tr>\n",
       "      <th>263</th>\n",
       "      <td>264</td>\n",
       "      <td>PCS</td>\n",
       "      <td>SBC</td>\n",
       "      <td>lab</td>\n",
       "      <td>CSE</td>\n",
       "      <td>AIML</td>\n",
       "      <td>C</td>\n",
       "      <td>SD</td>\n",
       "      <td>4</td>\n",
       "      <td>408</td>\n",
       "      <td>monday</td>\n",
       "      <td>11:15:00</td>\n",
       "      <td>13:15:00</td>\n",
       "      <td>SE</td>\n",
       "      <td>2</td>\n",
       "    </tr>\n",
       "    <tr>\n",
       "      <th>269</th>\n",
       "      <td>270</td>\n",
       "      <td>PCS</td>\n",
       "      <td>SBC</td>\n",
       "      <td>lab</td>\n",
       "      <td>CSE</td>\n",
       "      <td>AIML</td>\n",
       "      <td>B</td>\n",
       "      <td>SD</td>\n",
       "      <td>4</td>\n",
       "      <td>407</td>\n",
       "      <td>tuesday</td>\n",
       "      <td>9:00:00</td>\n",
       "      <td>11:00:00</td>\n",
       "      <td>SE</td>\n",
       "      <td>2</td>\n",
       "    </tr>\n",
       "    <tr>\n",
       "      <th>273</th>\n",
       "      <td>274</td>\n",
       "      <td>PCS</td>\n",
       "      <td>SBC</td>\n",
       "      <td>lecture</td>\n",
       "      <td>CSE</td>\n",
       "      <td>AIML</td>\n",
       "      <td>N</td>\n",
       "      <td>SD</td>\n",
       "      <td>4</td>\n",
       "      <td>405</td>\n",
       "      <td>tuesday</td>\n",
       "      <td>11:15:00</td>\n",
       "      <td>12:15:00</td>\n",
       "      <td>SE</td>\n",
       "      <td>1</td>\n",
       "    </tr>\n",
       "    <tr>\n",
       "      <th>283</th>\n",
       "      <td>284</td>\n",
       "      <td>PCS</td>\n",
       "      <td>SBC</td>\n",
       "      <td>lab</td>\n",
       "      <td>CSE</td>\n",
       "      <td>AIML</td>\n",
       "      <td>A</td>\n",
       "      <td>SD</td>\n",
       "      <td>4</td>\n",
       "      <td>412</td>\n",
       "      <td>wednesday</td>\n",
       "      <td>11:15:00</td>\n",
       "      <td>13:15:00</td>\n",
       "      <td>SE</td>\n",
       "      <td>2</td>\n",
       "    </tr>\n",
       "    <tr>\n",
       "      <th>296</th>\n",
       "      <td>297</td>\n",
       "      <td>PCS</td>\n",
       "      <td>SBC</td>\n",
       "      <td>lab</td>\n",
       "      <td>CSE</td>\n",
       "      <td>AIML</td>\n",
       "      <td>D</td>\n",
       "      <td>SD</td>\n",
       "      <td>4</td>\n",
       "      <td>407</td>\n",
       "      <td>friday</td>\n",
       "      <td>9:00:00</td>\n",
       "      <td>11:00:00</td>\n",
       "      <td>SE</td>\n",
       "      <td>2</td>\n",
       "    </tr>\n",
       "  </tbody>\n",
       "</table>\n",
       "</div>"
      ],
      "text/plain": [
       "     serial_num subject_code course_type lab_or_lecture department branch  \\\n",
       "219         220          PCS         SBC            lab        CSE   AIML   \n",
       "236         237          PCS         SBC            lab        CSE   AIML   \n",
       "241         242          PCS         SBC        lecture        CSE   AIML   \n",
       "246         247          PCS         SBC            lab        CSE   AIML   \n",
       "258         259          PCS         SBC            lab        CSE   AIML   \n",
       "263         264          PCS         SBC            lab        CSE   AIML   \n",
       "269         270          PCS         SBC            lab        CSE   AIML   \n",
       "273         274          PCS         SBC        lecture        CSE   AIML   \n",
       "283         284          PCS         SBC            lab        CSE   AIML   \n",
       "296         297          PCS         SBC            lab        CSE   AIML   \n",
       "\n",
       "    batch faculty_code floor room_num        day start_time  end_time year  \\\n",
       "219     C           SD     4      407     monday    9:00:00  11:00:00   SE   \n",
       "236     D           SD     4      407  wednesday    9:00:00  11:00:00   SE   \n",
       "241     N           SD     4      405  wednesday   14:00:00  15:00:00   SE   \n",
       "246     A           SD     4     406A   thursday   11:15:00  13:15:00   SE   \n",
       "258     B           SD     4      409     friday   11:15:00  13:15:00   SE   \n",
       "263     C           SD     4      408     monday   11:15:00  13:15:00   SE   \n",
       "269     B           SD     4      407    tuesday    9:00:00  11:00:00   SE   \n",
       "273     N           SD     4      405    tuesday   11:15:00  12:15:00   SE   \n",
       "283     A           SD     4      412  wednesday   11:15:00  13:15:00   SE   \n",
       "296     D           SD     4      407     friday    9:00:00  11:00:00   SE   \n",
       "\n",
       "     duration  \n",
       "219         2  \n",
       "236         2  \n",
       "241         1  \n",
       "246         2  \n",
       "258         2  \n",
       "263         2  \n",
       "269         2  \n",
       "273         1  \n",
       "283         2  \n",
       "296         2  "
      ]
     },
     "execution_count": 14,
     "metadata": {},
     "output_type": "execute_result"
    }
   ],
   "source": [
    "df[(df['subject_code']=='PCS')&(df['faculty_code']=='SD')]"
   ]
  },
  {
   "cell_type": "code",
   "execution_count": 30,
   "id": "3d60a63b",
   "metadata": {},
   "outputs": [],
   "source": [
    "df.to_csv('bap_ise_data.csv', index=False)"
   ]
  },
  {
   "cell_type": "code",
   "execution_count": 13,
   "id": "4c3aa80c",
   "metadata": {},
   "outputs": [
    {
     "data": {
      "text/plain": [
       "219    SD\n",
       "236    SD\n",
       "241    SD\n",
       "246    SD\n",
       "258    SD\n",
       "263    SD\n",
       "269    SD\n",
       "273    SD\n",
       "283    SD\n",
       "296    SD\n",
       "Name: faculty_code, dtype: object"
      ]
     },
     "execution_count": 13,
     "metadata": {},
     "output_type": "execute_result"
    }
   ],
   "source": [
    "df[(df['subject_code']=='PCS')&(df['faculty_code']=='SD')]['faculty_code']"
   ]
  },
  {
   "cell_type": "code",
   "execution_count": 15,
   "id": "2775bc68",
   "metadata": {},
   "outputs": [
    {
     "name": "stderr",
     "output_type": "stream",
     "text": [
      "C:\\Users\\Advait_Sapkal\\AppData\\Local\\Temp\\ipykernel_1005208\\2811500980.py:1: SettingWithCopyWarning: \n",
      "A value is trying to be set on a copy of a slice from a DataFrame\n",
      "\n",
      "See the caveats in the documentation: https://pandas.pydata.org/pandas-docs/stable/user_guide/indexing.html#returning-a-view-versus-a-copy\n",
      "  df[(df['subject_code']=='PCS')&(df['faculty_code']=='SD')]['faculty_code'].replace('foo', 'qux', inplace=True)\n"
     ]
    }
   ],
   "source": [
    "df[(df['subject_code']=='PCS')&(df['faculty_code']=='SD')]['faculty_code'].replace('foo', 'qux', inplace=True)"
   ]
  },
  {
   "cell_type": "code",
   "execution_count": 17,
   "id": "4c73f5e2",
   "metadata": {},
   "outputs": [
    {
     "data": {
      "text/plain": [
       "219    SD\n",
       "236    SD\n",
       "241    SD\n",
       "246    SD\n",
       "258    SD\n",
       "263    SD\n",
       "269    SD\n",
       "273    SD\n",
       "283    SD\n",
       "296    SD\n",
       "Name: faculty_code, dtype: object"
      ]
     },
     "execution_count": 17,
     "metadata": {},
     "output_type": "execute_result"
    }
   ],
   "source": [
    "df[(df['subject_code']=='PCS')&(df['faculty_code']=='SD')]['faculty_code']"
   ]
  },
  {
   "cell_type": "code",
   "execution_count": null,
   "id": "43204103",
   "metadata": {},
   "outputs": [],
   "source": []
  }
 ],
 "metadata": {
  "kernelspec": {
   "display_name": "Python 3 (ipykernel)",
   "language": "python",
   "name": "python3"
  },
  "language_info": {
   "codemirror_mode": {
    "name": "ipython",
    "version": 3
   },
   "file_extension": ".py",
   "mimetype": "text/x-python",
   "name": "python",
   "nbconvert_exporter": "python",
   "pygments_lexer": "ipython3",
   "version": "3.9.13"
  }
 },
 "nbformat": 4,
 "nbformat_minor": 5
}
